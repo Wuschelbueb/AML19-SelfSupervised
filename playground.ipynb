{
 "cells": [
  {
   "cell_type": "markdown",
   "metadata": {},
   "source": [
    "# Playground Self Supervised Learning: Fashionset Classification"
   ]
  },
  {
   "cell_type": "markdown",
   "metadata": {},
   "source": [
    "**Fashion MNIST** dataset ready in https://pytorch.org/docs/master/torchvision/datasets.html#fashion-mnist"
   ]
  },
  {
   "cell_type": "code",
   "execution_count": 1,
   "metadata": {},
   "outputs": [],
   "source": [
    "import torch\n",
    "import torch.nn as nn\n",
    "import numpy as np\n",
    "from torch.utils.data import DataLoader\n",
    "from torchvision.datasets import FashionMNIST\n",
    "from torchvision.transforms import Compose, ToTensor, Normalize, RandomRotation, ToPILImage"
   ]
  },
  {
   "cell_type": "code",
   "execution_count": 2,
   "metadata": {},
   "outputs": [],
   "source": [
    "device = torch.device('cuda' if torch.cuda.is_available() else 'cpu')"
   ]
  },
  {
   "cell_type": "code",
   "execution_count": 3,
   "metadata": {},
   "outputs": [],
   "source": [
    "# Define a transform to normalize the data\n",
    "transform = Compose([ToTensor(), Normalize((0.5, ), (0.5, ))])"
   ]
  },
  {
   "cell_type": "code",
   "execution_count": 35,
   "metadata": {},
   "outputs": [],
   "source": [
    "root_dir = 'fashion_mnist'\n",
    "\n",
    "\n",
    "# Download and load the training data\n",
    "trainset = FashionMNIST(root=root_dir, download=True, train=True, transform=transform)\n",
    "trainloader = DataLoader(trainset, batch_size=64, shuffle=True)\n",
    "\n",
    "# Download and load the test data\n",
    "testset = FashionMNIST(root=root_dir, download=True, train=False, transform=transform)\n",
    "testloader = DataLoader(testset, batch_size=64, shuffle=True)"
   ]
  },
  {
   "cell_type": "code",
   "execution_count": 36,
   "metadata": {},
   "outputs": [
    {
     "name": "stdout",
     "output_type": "stream",
     "text": [
      "torch.Size([1, 28, 28])\n",
      "9\n"
     ]
    }
   ],
   "source": [
    "image, label = trainset[0]\n",
    "print(image.size())\n",
    "print(label)"
   ]
  },
  {
   "cell_type": "code",
   "execution_count": 7,
   "metadata": {},
   "outputs": [
    {
     "name": "stdout",
     "output_type": "stream",
     "text": [
      "torch.Size([64, 1, 28, 28]) torch.Size([64])\n",
      "tensor([8, 0, 0, 3, 0, 5, 2, 2, 8, 6, 5, 1, 3, 2, 2, 1, 5, 5, 1, 2, 8, 3, 5, 2,\n",
      "        2, 8, 3, 6, 7, 6, 2, 2, 7, 0, 8, 8, 0, 2, 5, 9, 2, 5, 1, 0, 7, 6, 3, 1,\n",
      "        4, 9, 0, 2, 8, 6, 3, 1, 0, 3, 1, 4, 2, 0, 4, 4])\n"
     ]
    }
   ],
   "source": [
    "#We can iterate over the dataset\n",
    "for xs, ys in trainloader:\n",
    "    print(xs.size(), ys.size())\n",
    "    print(ys)\n",
    "    break"
   ]
  },
  {
   "cell_type": "markdown",
   "metadata": {},
   "source": [
    "### Display random images"
   ]
  },
  {
   "cell_type": "code",
   "execution_count": 20,
   "metadata": {},
   "outputs": [
    {
     "data": {
      "image/png": "[encoded data removed]",
      "text/plain": [
       "<Figure size 921.6x691.2 with 6 Axes>"
      ]
     },
     "metadata": {
      "needs_background": "light"
     },
     "output_type": "display_data"
    }
   ],
   "source": [
    "from matplotlib import pyplot as plt\n",
    "from random import randint\n",
    "\n",
    "f, axes = plt.subplots(2, 3, figsize=(12.8, 9.6))\n",
    "axes = [ax for axs in axes for ax in axs]\n",
    "for i in range(6):\n",
    "    index = randint(0, len(trainset))\n",
    "    axes[i].imshow(trainset[index][0].view(28, 28), cmap='gray')\n",
    "    axes[i].axis('off')    "
   ]
  },
  {
   "cell_type": "markdown",
   "metadata": {},
   "source": [
    "### Random rotation"
   ]
  },
  {
   "cell_type": "code",
   "execution_count": 9,
   "metadata": {},
   "outputs": [
    {
     "data": {
      "image/png": "[encoded data removed]",
      "text/plain": [
       "<Figure size 921.6x691.2 with 6 Axes>"
      ]
     },
     "metadata": {
      "needs_background": "light"
     },
     "output_type": "display_data"
    }
   ],
   "source": [
    "import torchvision.transforms.functional as TF\n",
    "import random\n",
    "\n",
    "\n",
    "transforms = ToPILImage()\n",
    "    \n",
    "f, axes = plt.subplots(2, 3, figsize=(12.8, 9.6))\n",
    "axes = [ax for axs in axes for ax in axs]\n",
    "\n",
    "for i in range(6):\n",
    "    angle = random.choice([0, 90, 180, 270])\n",
    "    axes[i].imshow(TF.rotate(transforms(trainset[0][0]), angle), cmap='gray')\n",
    "    axes[i].axis('off') "
   ]
  },
  {
   "cell_type": "code",
   "execution_count": 110,
   "metadata": {},
   "outputs": [],
   "source": [
    "from torch.utils.data import Dataset\n",
    "\n",
    "class FashionMinstAugmentedDataset(Dataset):\n",
    "\n",
    "    def __init__(self, data, transform):\n",
    "        self.data = data\n",
    "        self.transform = transform\n",
    "\n",
    "    def __len__(self):\n",
    "        return len(self.data)\n",
    "\n",
    "    def __getitem__(self, index):\n",
    "        datapoint = self.transform(self.data[index])\n",
    "\n",
    "        return datapoint"
   ]
  },
  {
   "cell_type": "code",
   "execution_count": 118,
   "metadata": {},
   "outputs": [],
   "source": [
    "def my_segmentation_transforms(image):\n",
    "    angle = random.choice([0, 90, 180, 270])\n",
    "\n",
    "    image = TF.to_pil_image(image[0])\n",
    "    image = TF.rotate(image, angle)\n",
    "\n",
    "    image = TF.to_tensor(image)\n",
    "    image = TF.normalize(image, (0.5, ), (0.5, ))\n",
    "\n",
    "    return image, angle"
   ]
  },
  {
   "cell_type": "code",
   "execution_count": 119,
   "metadata": {},
   "outputs": [],
   "source": [
    "trainset_augmented = FashionMinstAugmentedDataset(trainset, transform=my_segmentation_transforms)\n",
    "trainloader_augmented = DataLoader(trainset_augmented, batch_size=32, shuffle=True, num_workers=32)"
   ]
  },
  {
   "cell_type": "code",
   "execution_count": 134,
   "metadata": {},
   "outputs": [
    {
     "name": "stdout",
     "output_type": "stream",
     "text": [
      "torch.Size([1, 28, 28])\n",
      "180\n"
     ]
    },
    {
     "data": {
      "image/png": "[encoded data removed]",
      "text/plain": [
       "<Figure size 432x288 with 1 Axes>"
      ]
     },
     "metadata": {
      "needs_background": "light"
     },
     "output_type": "display_data"
    }
   ],
   "source": [
    "image, label = trainset_augmented[0]\n",
    "plt.imshow(image.view(28, 28), cmap='gray')\n",
    "print(image.size())\n",
    "print(label)"
   ]
  },
  {
   "cell_type": "code",
   "execution_count": 135,
   "metadata": {},
   "outputs": [
    {
     "name": "stdout",
     "output_type": "stream",
     "text": [
      "torch.Size([32, 1, 28, 28]) torch.Size([32])\n",
      "tensor([180, 180, 180,   0, 270, 180, 270, 270, 270, 180,  90, 270, 180, 270,\n",
      "        180,  90,   0,  90,  90, 180, 270,  90, 180, 270,   0,  90,  90, 270,\n",
      "        180, 180,  90, 270])\n"
     ]
    }
   ],
   "source": [
    "#We can iterate over the dataset\n",
    "for xs, ys in trainloader_augmented:\n",
    "    print(xs.size(), ys.size())\n",
    "    print(ys)\n",
    "    break"
   ]
  },
  {
   "cell_type": "code",
   "execution_count": 148,
   "metadata": {},
   "outputs": [
    {
     "data": {
      "image/png": "[encoded data removed]",
      "text/plain": [
       "<Figure size 921.6x691.2 with 6 Axes>"
      ]
     },
     "metadata": {
      "needs_background": "light"
     },
     "output_type": "display_data"
    }
   ],
   "source": [
    "from matplotlib import pyplot as plt\n",
    "from random import randint\n",
    "\n",
    "f, axes = plt.subplots(2, 3, figsize=(12.8, 9.6))\n",
    "axes = [ax for axs in axes for ax in axs]\n",
    "for i in range(6):\n",
    "    index = randint(0, len(trainset_augmented))\n",
    "    image, label = trainset_augmented[index]\n",
    "    axes[i].imshow(np.asarray(image.view(28, 28)), cmap='gray')\n",
    "    axes[i].set_title('Rotation:' + str(label))\n",
    "    axes[i].axis('off')   "
   ]
  },
  {
   "cell_type": "markdown",
   "metadata": {},
   "source": [
    "## Models"
   ]
  },
  {
   "cell_type": "code",
   "execution_count": null,
   "metadata": {},
   "outputs": [],
   "source": []
  }
 ],
 "metadata": {
  "kernelspec": {
   "display_name": "Python 2",
   "language": "python",
   "name": "python2"
  },
  "language_info": {
   "codemirror_mode": {
    "name": "ipython",
    "version": 3
   },
   "file_extension": ".py",
   "mimetype": "text/x-python",
   "name": "python",
   "nbconvert_exporter": "python",
   "pygments_lexer": "ipython3",
   "version": "3.6.8"
  }
 },
 "nbformat": 4,
 "nbformat_minor": 2
}
