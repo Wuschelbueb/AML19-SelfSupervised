{
 "cells": [
  {
   "cell_type": "markdown",
   "metadata": {},
   "source": [
    "# Fashionset Classification (FashionMNIST Dataset) - Refactored"
   ]
  },
  {
   "cell_type": "code",
   "execution_count": 1,
   "metadata": {},
   "outputs": [],
   "source": [
    "import torch\n",
    "import torch.nn as nn\n",
    "import numpy as np\n",
    "import torchvision.transforms.functional as TF\n",
    "\n",
    "from torch.utils.data import DataLoader, Dataset, ConcatDataset\n",
    "from torch.autograd import Variable\n",
    "from torchvision.models import resnet18\n",
    "from torchvision.datasets import FashionMNIST\n",
    "from torchvision.transforms import Compose, ToTensor, Normalize, RandomRotation, ToPILImage\n",
    "from matplotlib import pyplot as plt\n",
    "from random import randint"
   ]
  },
  {
   "cell_type": "code",
   "execution_count": 2,
   "metadata": {},
   "outputs": [],
   "source": [
    "device = torch.device('cuda' if torch.cuda.is_available() else 'cpu')"
   ]
  },
  {
   "cell_type": "code",
   "execution_count": 3,
   "metadata": {},
   "outputs": [],
   "source": [
    "# Define a transform to normalize the data\n",
    "transform = Compose([ToTensor(), Normalize(mean=(0.5,), std=(0.5,))])"
   ]
  },
  {
   "cell_type": "code",
   "execution_count": 4,
   "metadata": {},
   "outputs": [],
   "source": [
    "# create Dataset for fashion classification (with fashion labels)\n",
    "\n",
    "class FashionMNISTDataset(Dataset):\n",
    "\n",
    "    def __init__(self, data, targets):\n",
    "        self.data = data\n",
    "        self.targets = targets\n",
    "\n",
    "    def __len__(self):\n",
    "        return len(self.data)\n",
    "\n",
    "    def __getitem__(self, index):\n",
    "        \n",
    "        data = self.data[index]\n",
    "        target = self.targets[index]\n",
    "\n",
    "        return data, target"
   ]
  },
  {
   "cell_type": "code",
   "execution_count": 5,
   "metadata": {},
   "outputs": [],
   "source": [
    "root_dir = 'fashion_mnist'\n",
    "batch_size=64\n",
    "\n",
    "# Download and load the training data\n",
    "trainset = FashionMNIST(root=root_dir, download=True, train=True, transform=transform)\n",
    "\n",
    "nbr_train_examples = round(len(trainset) * 0.8)\n",
    "\n",
    "trainset_classification = FashionMNISTDataset(\n",
    "    data=trainset.data[:nbr_train_examples], \n",
    "    targets=trainset.targets[:nbr_train_examples]\n",
    ")\n",
    "\n",
    "valset_classification = FashionMNISTDataset(\n",
    "    data=trainset.data[nbr_train_examples:], \n",
    "    targets=trainset.targets[:nbr_train_examples:]\n",
    ")\n",
    "\n",
    "trainloader_classification = DataLoader(trainset_classification, batch_size=64, shuffle=True)\n",
    "valloader_classification = DataLoader(valset_classification, batch_size=64, shuffle=False)\n",
    "\n",
    "# Download and load the test data\n",
    "testset_classification = FashionMNIST(root=root_dir, download=True, train=False, transform=transform)\n",
    "testloader_classification = DataLoader(testset_classification, batch_size=batch_size, shuffle=False)"
   ]
  },
  {
   "cell_type": "code",
   "execution_count": 6,
   "metadata": {},
   "outputs": [
    {
     "name": "stdout",
     "output_type": "stream",
     "text": [
      "48000\n",
      "12000\n",
      "10000\n"
     ]
    }
   ],
   "source": [
    "print(len(trainset_classification))\n",
    "print(len(valset_classification))\n",
    "print(len(testset_classification))"
   ]
  },
  {
   "cell_type": "code",
   "execution_count": 7,
   "metadata": {},
   "outputs": [
    {
     "name": "stdout",
     "output_type": "stream",
     "text": [
      "torch.Size([64, 28, 28]) torch.Size([64])\n",
      "tensor([7, 3, 3, 6, 8, 5, 7, 3, 3, 5, 2, 9, 7, 1, 3, 5, 4, 9, 0, 1, 3, 5, 5, 7,\n",
      "        1, 4, 2, 7, 6, 5, 8, 3, 7, 7, 5, 6, 6, 9, 6, 8, 8, 6, 1, 9, 4, 3, 4, 2,\n",
      "        1, 9, 1, 2, 5, 4, 6, 5, 5, 5, 9, 0, 7, 5, 9, 3])\n",
      "torch.Size([64, 28, 28]) torch.Size([64])\n",
      "tensor([9, 0, 0, 3, 0, 2, 7, 2, 5, 5, 0, 9, 5, 5, 7, 9, 1, 0, 6, 4, 3, 1, 4, 8,\n",
      "        4, 3, 0, 2, 4, 4, 5, 3, 6, 6, 0, 8, 5, 2, 1, 6, 6, 7, 9, 5, 9, 2, 7, 3,\n",
      "        0, 3, 3, 3, 7, 2, 2, 6, 6, 8, 3, 3, 5, 0, 5, 5])\n",
      "torch.Size([64, 1, 28, 28]) torch.Size([64])\n",
      "tensor([9, 2, 1, 1, 6, 1, 4, 6, 5, 7, 4, 5, 7, 3, 4, 1, 2, 4, 8, 0, 2, 5, 7, 9,\n",
      "        1, 4, 6, 0, 9, 3, 8, 8, 3, 3, 8, 0, 7, 5, 7, 9, 6, 1, 3, 7, 6, 7, 2, 1,\n",
      "        2, 2, 4, 4, 5, 8, 2, 2, 8, 4, 8, 0, 7, 7, 8, 5])\n"
     ]
    }
   ],
   "source": [
    "#We can iterate over the dataset\n",
    "for xs, ys in trainloader_classification:\n",
    "    print(xs.size(), ys.size())\n",
    "    print(ys)\n",
    "    break\n",
    "    \n",
    "for xs, ys in valloader_classification:\n",
    "    print(xs.size(), ys.size())\n",
    "    print(ys)\n",
    "    break\n",
    "    \n",
    "for xs, ys in testloader_classification:\n",
    "    print(xs.size(), ys.size())\n",
    "    print(ys)\n",
    "    break    "
   ]
  },
  {
   "cell_type": "code",
   "execution_count": 8,
   "metadata": {},
   "outputs": [
    {
     "name": "stdout",
     "output_type": "stream",
     "text": [
      "torch.Size([28, 28])\n",
      "tensor(9)\n"
     ]
    }
   ],
   "source": [
    "image, label = valset_classification[0]\n",
    "print(image.size())\n",
    "print(label)"
   ]
  },
  {
   "cell_type": "code",
   "execution_count": 9,
   "metadata": {},
   "outputs": [],
   "source": [
    "def imshow(img):\n",
    "    img = img / 2 + 0.5     # unnormalize\n",
    "    npimg = img.numpy()\n",
    "    plt.imshow(np.transpose(npimg, (1, 2, 0)))\n",
    "    plt.show()"
   ]
  },
  {
   "cell_type": "code",
   "execution_count": 10,
   "metadata": {},
   "outputs": [],
   "source": [
    "# Rotate given images by given angle\n",
    "\n",
    "def my_segmentation_transforms(image, angle):\n",
    "    image = TF.to_pil_image(image)\n",
    "    image = TF.resize(image, 32, interpolation=2)\n",
    "    image = TF.rotate(image, angle)\n",
    "    image = TF.to_tensor(image)\n",
    "    image = TF.normalize(image, (0.5, ), (0.5, ))\n",
    "\n",
    "    return image"
   ]
  },
  {
   "cell_type": "code",
   "execution_count": 11,
   "metadata": {},
   "outputs": [],
   "source": [
    "class FashionMNISTAugmentedDataset(Dataset):\n",
    "\n",
    "    def __init__(self, data, target, transform, angle):\n",
    "        self.data = data\n",
    "        self.target = target\n",
    "        self.transform = transform\n",
    "        self.angle = angle\n",
    "\n",
    "    def __len__(self):\n",
    "        return len(self.data)\n",
    "\n",
    "    def __getitem__(self, index):        \n",
    "        datapoint = self.transform(self.data[index], self.angle)\n",
    "        \n",
    "        if self.angle == 0:\n",
    "            target = 0 \n",
    "        if self.angle == 90:\n",
    "            target = 1\n",
    "        if self.angle == 180:\n",
    "            target = 2\n",
    "        if self.angle == 270:\n",
    "            target = 3\n",
    "        \n",
    "        return datapoint, target"
   ]
  },
  {
   "cell_type": "code",
   "execution_count": 12,
   "metadata": {},
   "outputs": [],
   "source": [
    "batch_size=64\n",
    "\n",
    "n_train = int(len(trainset) * 0.8)\n",
    "\n",
    "train_set_0 =  FashionMNISTAugmentedDataset(\n",
    "    data=trainset_classification.data,\n",
    "    target=trainset_classification.targets,\n",
    "    transform=my_segmentation_transforms,\n",
    "    angle=0\n",
    ")\n",
    "\n",
    "train_set_90 =  FashionMNISTAugmentedDataset(\n",
    "    data=trainset_classification.data,\n",
    "    target=trainset_classification.targets,\n",
    "    transform=my_segmentation_transforms,\n",
    "    angle=90\n",
    ")\n",
    "\n",
    "train_set_180 =  FashionMNISTAugmentedDataset(\n",
    "    data=trainset_classification.data,\n",
    "    target=trainset_classification.targets,\n",
    "    transform=my_segmentation_transforms,\n",
    "    angle=180\n",
    ")\n",
    "\n",
    "train_set_270 =  FashionMNISTAugmentedDataset(\n",
    "    data=trainset_classification.data,\n",
    "    target=trainset_classification.targets,\n",
    "    transform=my_segmentation_transforms,\n",
    "    angle=270\n",
    ")\n",
    "\n",
    "val_set_0 = FashionMNISTAugmentedDataset(\n",
    "    data=valset_classification.data, \n",
    "    target=valset_classification.targets,\n",
    "    transform=my_segmentation_transforms,\n",
    "    angle=0\n",
    ")\n",
    "\n",
    "val_set_90 = FashionMNISTAugmentedDataset(\n",
    "    data=valset_classification.data, \n",
    "    target=valset_classification.targets,\n",
    "    transform=my_segmentation_transforms,\n",
    "    angle=90\n",
    ")\n",
    "\n",
    "val_set_180 = FashionMNISTAugmentedDataset(\n",
    "    data=valset_classification.data, \n",
    "    target=valset_classification.targets,\n",
    "    transform=my_segmentation_transforms,\n",
    "    angle=180\n",
    ")\n",
    "\n",
    "val_set_270 = FashionMNISTAugmentedDataset(\n",
    "    data=valset_classification.data, \n",
    "    target=valset_classification.targets,\n",
    "    transform=my_segmentation_transforms,\n",
    "    angle=270\n",
    ")\n",
    "\n",
    "test_set_0 = FashionMNISTAugmentedDataset(\n",
    "    data=testset_classification.data, \n",
    "    target=testset_classification.targets, \n",
    "    transform=my_segmentation_transforms,\n",
    "    angle=0\n",
    ")\n",
    "\n",
    "test_set_90 = FashionMNISTAugmentedDataset(\n",
    "    data=testset_classification.data, \n",
    "    target=testset_classification.targets, \n",
    "    transform=my_segmentation_transforms,\n",
    "    angle=90\n",
    ")\n",
    "\n",
    "test_set_180 = FashionMNISTAugmentedDataset(\n",
    "    data=testset_classification.data, \n",
    "    target=testset_classification.targets, \n",
    "    transform=my_segmentation_transforms,\n",
    "    angle=180\n",
    ")\n",
    "\n",
    "test_set_270 = FashionMNISTAugmentedDataset(\n",
    "    data=testset_classification.data, \n",
    "    target=testset_classification.targets, \n",
    "    transform=my_segmentation_transforms,\n",
    "    angle=270\n",
    ")"
   ]
  },
  {
   "cell_type": "code",
   "execution_count": 13,
   "metadata": {},
   "outputs": [
    {
     "data": {
      "image/png": "[encoded data removed]",
      "text/plain": [
       "<Figure size 921.6x691.2 with 6 Axes>"
      ]
     },
     "metadata": {
      "needs_background": "light"
     },
     "output_type": "display_data"
    },
    {
     "data": {
      "image/png": "[encoded data removed]",
      "text/plain": [
       "<Figure size 921.6x691.2 with 6 Axes>"
      ]
     },
     "metadata": {
      "needs_background": "light"
     },
     "output_type": "display_data"
    },
    {
     "data": {
      "image/png": "[encoded data removed]",
      "text/plain": [
       "<Figure size 921.6x691.2 with 6 Axes>"
      ]
     },
     "metadata": {
      "needs_background": "light"
     },
     "output_type": "display_data"
    },
    {
     "data": {
      "image/png": "[encoded data removed]",
      "text/plain": [
       "<Figure size 921.6x691.2 with 6 Axes>"
      ]
     },
     "metadata": {
      "needs_background": "light"
     },
     "output_type": "display_data"
    }
   ],
   "source": [
    "from matplotlib import pyplot as plt\n",
    "from random import randint\n",
    "\n",
    "datasets = [train_set_0, train_set_90, train_set_180, train_set_270]\n",
    "\n",
    "for dataset in datasets:\n",
    "    f, axes = plt.subplots(2, 3, figsize=(12.8, 9.6))\n",
    "    axes = [ax for axs in axes for ax in axs]\n",
    "\n",
    "    for i in range(6):\n",
    "        index = randint(0, len(dataset))\n",
    "        image, label = dataset[index]\n",
    "        axes[i].imshow(image[0].view(32, 32), cmap='gray')\n",
    "        axes[i].set_title('Rotation:' + str(label))\n",
    "        axes[i].axis('off')   "
   ]
  },
  {
   "cell_type": "code",
   "execution_count": 14,
   "metadata": {},
   "outputs": [],
   "source": [
    "train_dataset = ConcatDataset([train_set_0, train_set_90, train_set_180, train_set_270])\n",
    "train_loader = DataLoader(train_dataset, batch_size=batch_size, shuffle=True, num_workers=1)\n",
    "\n",
    "val_dataset = ConcatDataset([val_set_0, val_set_90, val_set_180, val_set_270])\n",
    "val_loader = DataLoader(val_dataset, batch_size=batch_size, shuffle=False, num_workers=1)\n",
    "\n",
    "test_dataset = ConcatDataset([test_set_0, test_set_90, test_set_180, test_set_270])\n",
    "test_loader = DataLoader(test_dataset, batch_size=batch_size, shuffle=False, num_workers=1)"
   ]
  },
  {
   "cell_type": "code",
   "execution_count": 15,
   "metadata": {},
   "outputs": [],
   "source": [
    "def train(model, loss_fn, optimizer, scheduler, num_epochs, trainloader, valloader):\n",
    "    best_model_wts = model.state_dict()\n",
    "    best_acc = 0.0\n",
    "    dataloader = None\n",
    "    dataset_size = 0\n",
    "    \n",
    "    for epoch in range(num_epochs):\n",
    "        since = time.time()\n",
    "\n",
    "        print('Epoch {}/{}'.format(epoch+1, num_epochs))\n",
    "\n",
    "        # Each epoch has a training and validation phase\n",
    "        for phase in ['train', 'val']:\n",
    "            if phase == 'train':\n",
    "                scheduler.step()\n",
    "                model.train(True)  # Set model to training mode\n",
    "                dataloader = trainloader\n",
    "                dataset_size = len(trainloader.dataset)\n",
    "            else:\n",
    "                model.train(False)  # Set model to evaluate mode\n",
    "                dataloader = valloader\n",
    "                dataset_size = len(valloader.dataset)\n",
    "             \n",
    "            running_loss = 0.0\n",
    "            running_corrects = 0.0\n",
    "\n",
    "            # Iterate over data.\n",
    "            \n",
    "            for data in dataloader:\n",
    "                # get the inputs\n",
    "                inputs, labels = data\n",
    "                inputs = inputs.to(device)\n",
    "                labels = labels.to(device)\n",
    "\n",
    "                # zero the parameter gradients\n",
    "                optimizer.zero_grad()\n",
    "\n",
    "                # forward\n",
    "                outputs = model(inputs)\n",
    "                _, preds = torch.max(outputs.data, 1)\n",
    "                loss = loss_fn(outputs, labels)\n",
    "\n",
    "                # backward + optimize only if in training phase\n",
    "                if phase == 'train':\n",
    "                    loss.backward()\n",
    "                    optimizer.step()\n",
    "\n",
    "                # statistics\n",
    "                running_loss += loss.item()\n",
    "                running_corrects += torch.sum(preds == labels.data).to(torch.float32)\n",
    "\n",
    "            epoch_loss = running_loss / dataset_size\n",
    "            epoch_acc = running_corrects / dataset_size\n",
    "\n",
    "            print('{} Loss: {:.4f} Acc: {:.4f}'.format(\n",
    "                phase, epoch_loss, epoch_acc))\n",
    "\n",
    "            # deep copy the model\n",
    "            if phase == 'val' and epoch_acc > best_acc:\n",
    "                best_acc = epoch_acc\n",
    "                best_model_wts = model.state_dict()\n",
    "\n",
    "    time_elapsed = time.time() - since\n",
    "    print('Training complete in {:.0f}m {:.0f}s'.format(\n",
    "        time_elapsed // 60, time_elapsed % 60))\n",
    "    print('Best val Acc: {:4f}'.format(best_acc))\n",
    "\n",
    "    # load best model weights\n",
    "    model.load_state_dict(best_model_wts)\n",
    "    return model"
   ]
  },
  {
   "cell_type": "markdown",
   "metadata": {},
   "source": [
    "## Model Building Blocks"
   ]
  },
  {
   "cell_type": "code",
   "execution_count": 16,
   "metadata": {},
   "outputs": [],
   "source": [
    "def flatten(x): \n",
    "    return x.view(x.size(0), -1)"
   ]
  },
  {
   "cell_type": "code",
   "execution_count": 17,
   "metadata": {},
   "outputs": [],
   "source": [
    "def conv3x3(in_planes, out_planes, stride=1):\n",
    "    \"3x3 convolution with padding\"\n",
    "    return nn.Conv2d(in_planes, out_planes, kernel_size=3, stride=stride, padding=1, bias=False)"
   ]
  },
  {
   "cell_type": "code",
   "execution_count": 18,
   "metadata": {},
   "outputs": [],
   "source": [
    "class BasicBlock(nn.Module):\n",
    "\n",
    "    expansion = 1       \n",
    "\n",
    "    def __init__(self, in_planes, planes, stride=1, downsample=None):\n",
    "        super(BasicBlock, self).__init__()\n",
    "\n",
    "        self.conv1 = conv3x3(in_planes, planes, stride)\n",
    "        self.conv2 = conv3x3(planes, planes)\n",
    "\n",
    "        self.bn1 = nn.BatchNorm2d(planes)\n",
    "        self.bn2 = nn.BatchNorm2d(planes)\n",
    "\n",
    "        self.relu = nn.ReLU(inplace=True)\n",
    "        self.downsample = downsample\n",
    "\n",
    "        self.stride = stride\n",
    "\n",
    "    def forward(self, x):\n",
    "\n",
    "        residue = x\n",
    "        out = self.relu(self.bn1(self.conv1(x)))\n",
    "        out = self.bn2(self.conv2(out))\n",
    "\n",
    "        if self.downsample is not None:\n",
    "            residue = self.downsample(x)\n",
    "\n",
    "        out += residue\n",
    "        out = self.relu(out)\n",
    "        return out"
   ]
  },
  {
   "cell_type": "code",
   "execution_count": 19,
   "metadata": {},
   "outputs": [],
   "source": [
    "class Bottleneck(nn.Module):\n",
    "    \n",
    "    expansion = 4\n",
    "\n",
    "    def __init__(self, in_planes, planes, stride=1, downsample=None):\n",
    "        super(Bottleneck, self).__init__()\n",
    "        self.conv1 = nn.Conv2d(in_planes, planes, kernel_size=1, bias=False)\n",
    "        self.bn1 = nn.BatchNorm2d(planes)\n",
    "        \n",
    "        self.conv2 = nn.Conv2d(planes, planes, kernel_size=3, stride=stride, padding=1, bias=False)\n",
    "        self.bn2 = nn.BatchNorm2d(planes)\n",
    "        \n",
    "        self.conv3 = nn.Conv2d(planes, self.expansion*planes, kernel_size=1, bias=False)\n",
    "        self.bn3 = nn.BatchNorm2d(self.expansion*planes)\n",
    "\n",
    "        self.downsample = downsample\n",
    "        \n",
    "        self.stride = stride\n",
    "        \n",
    "    def forward(self, x):\n",
    "\n",
    "        residue = x\n",
    "        out = self.relu(self.bn1(self.conv1(x)))\n",
    "        out = self.relu(self.bn2(self.conv2(x)))\n",
    "        out = self.bn3(self.conv3(out))\n",
    "\n",
    "        if self.downsample is not None:\n",
    "            residue = self.downsample(x)\n",
    "\n",
    "        out += residue\n",
    "        out = self.relu(out)\n",
    "        return out"
   ]
  },
  {
   "cell_type": "code",
   "execution_count": 20,
   "metadata": {},
   "outputs": [],
   "source": [
    "class ResNet(nn.Module):\n",
    "\n",
    "    def __init__(self, depth, name, num_classes=10, block=BasicBlock):\n",
    "        super(ResNet, self).__init__()\n",
    "\n",
    "        assert (depth - 2) % 6 == 0, 'Depth should be 6n + 2'\n",
    "        n = (depth - 2) // 6\n",
    "\n",
    "        self.name = name\n",
    "        block = BasicBlock\n",
    "        self.inplanes = 16\n",
    "        fmaps = [16, 32, 64] # CIFAR10\n",
    "\n",
    "        self.conv = nn.Conv2d(3, 16, kernel_size=3, stride=1, padding=1, bias=False)\n",
    "        self.bn = nn.BatchNorm2d(16)\n",
    "        self.relu = nn.ReLU(inplace=True)\n",
    "\n",
    "        self.layer1 = self._make_layer(block, fmaps[0], n, stride=1)\n",
    "        self.layer2 = self._make_layer(block, fmaps[1], n, stride=2)\n",
    "        self.layer3 = self._make_layer(block, fmaps[2], n, stride=2)\n",
    "\n",
    "        self.avgpool = nn.AvgPool2d(kernel_size=8, stride=1)\n",
    "        self.flatten = flatten\n",
    "        self.fc = nn.Linear(fmaps[2] * block.expansion, num_classes)\n",
    "\n",
    "        for m in self.modules():\n",
    "            if isinstance(m, nn.Conv2d):\n",
    "                nn.init.kaiming_normal_(m.weight, mode='fan_out', nonlinearity='relu')\n",
    "            elif isinstance(m, nn.BatchNorm2d):\n",
    "                nn.init.constant_(m.weight, 1)\n",
    "                nn.init.constant_(m.bias, 0)\n",
    "\n",
    "    def _make_layer(self, block, planes, blocks, stride=1):\n",
    "        ''' Between layers convolve input to match dimensions -> stride = 2 '''\n",
    "\n",
    "        downsample = None\n",
    "        if stride != 1 or self.inplanes != planes * block.expansion:\n",
    "            downsample = nn.Sequential(\n",
    "                    nn.Conv2d(self.inplanes, planes * block.expansion,\n",
    "                              kernel_size=1, stride=stride, bias=False),\n",
    "                    nn.BatchNorm2d(planes * block.expansion))\n",
    "\n",
    "        layers = []\n",
    "        layers.append(block(self.inplanes, planes, stride, downsample))\n",
    "        self.inplanes = planes * block.expansion\n",
    "        for _ in range(1, blocks):\n",
    "            layers.append(block(self.inplanes, planes))\n",
    "\n",
    "        return nn.Sequential(*layers)\n",
    "\n",
    "\n",
    "    def forward(self, x, print_sizes=False):\n",
    "        \n",
    "        if print_sizes:\n",
    "            print('Sizes of the tensors inside each node: \\n')\n",
    "            print(\"\\t In Model: input size\", x.size())\n",
    "        \n",
    "        x = self.relu(self.bn(self.conv(x)))    # 32x32\n",
    "        \n",
    "        x = self.layer1(x)                      # 32x32\n",
    "        x = self.layer2(x)                      # 16x16\n",
    "        x = self.layer3(x)                      # 8x8\n",
    "\n",
    "        x = self.avgpool(x)                     # 1x1\n",
    "        x = self.flatten(x)                     # Flatten\n",
    "        x  = self.fc(x)                         # Dense\n",
    "        \n",
    "        if print_sizes:\n",
    "            print(\"\\t In Model: output size\", x.size())\n",
    "            \n",
    "        return x"
   ]
  },
  {
   "cell_type": "code",
   "execution_count": 21,
   "metadata": {},
   "outputs": [],
   "source": [
    "def ResNet20(**kwargs):    \n",
    "    return ResNet(name = 'ResNet20', depth = 20, num_classes=4,**kwargs)"
   ]
  },
  {
   "cell_type": "markdown",
   "metadata": {},
   "source": [
    "## Model"
   ]
  },
  {
   "cell_type": "code",
   "execution_count": null,
   "metadata": {},
   "outputs": [],
   "source": [
    "resnet20 = ResNet20()\n",
    "# fitting the convolution to 1 input channel (instead of 3)\n",
    "resnet20.conv = nn.Conv2d(1, 16, kernel_size=(3, 3), stride=(1, 1), padding=(1, 1), bias=False)\n",
    "\n",
    "# Criteria NLLLoss which is recommended with Softmax final layer\n",
    "loss_fn = nn.CrossEntropyLoss()\n",
    "\n",
    "# Observe that all parameters are being optimized\n",
    "optim = torch.optim.Adam(resnet20.parameters(), lr=0.001)\n",
    "\n",
    "# Decay LR by a factor of 0.1 every 4 epochs\n",
    "sched = torch.optim.lr_scheduler.StepLR(optimizer=optim, step_size=4, gamma=0.1)\n",
    "\n",
    "# Number of epochs\n",
    "eps=5\n",
    "resnet20_trained = train(resnet20, loss_fn, optim, sched, eps, train_loader, val_loader)"
   ]
  },
  {
   "cell_type": "markdown",
   "metadata": {},
   "source": [
    "## Model with freezed layers + classification layer for original dataset"
   ]
  },
  {
   "cell_type": "code",
   "execution_count": null,
   "metadata": {},
   "outputs": [],
   "source": [
    "# Criteria NLLLoss which is recommended with Softmax final layer\n",
    "loss_fn = nn.CrossEntropyLoss()\n",
    "\n",
    "# freeze all layers of the trained model\n",
    "for param in resnet20_trained.layer1.parameters():\n",
    "    param.requires_grad = False\n",
    "    \n",
    "for param in resnet20_trained.layer2.parameters():\n",
    "    param.requires_grad = False    \n",
    "\n",
    "for param in resnet20_trained.layer3.parameters():\n",
    "    param.requires_grad = False\n",
    "\n",
    "# unfreeze final fc layer\n",
    "for param in resnet20_trained.fc.parameters():\n",
    "    param.requires_grad = True\n",
    "\n",
    "# replace fc layer with 10 outputs\n",
    "resnet20_trained.fc = nn.Linear(64, 10)\n",
    "\n",
    "# Observe that all parameters are being optimized\n",
    "optim = torch.optim.Adam(resnet20_trained.parameters(), lr=0.001)\n",
    "\n",
    "# Decay LR by a factor of 0.1 every 4 epochs\n",
    "sched = torch.optim.lr_scheduler.StepLR(optimizer=optim, step_size=4, gamma=0.1)\n",
    "\n",
    "# Number of epochs\n",
    "eps=5\n",
    "\n",
    "resnet20_trained_classification_1 = train(resnet20_trained, loss_fn, optim, sched, eps, trainloader_classification, valloader_classification)"
   ]
  },
  {
   "cell_type": "markdown",
   "metadata": {},
   "source": [
    "## Model with two freezed layers + classification layer for original dataset"
   ]
  },
  {
   "cell_type": "code",
   "execution_count": null,
   "metadata": {},
   "outputs": [],
   "source": [
    "# Criteria NLLLoss which is recommended with Softmax final layer\n",
    "loss_fn = nn.CrossEntropyLoss()\n",
    "\n",
    "# freeze all layers of the trained model\n",
    "for param in resnet20_trained.layer1.parameters():\n",
    "    param.requires_grad = False\n",
    "    \n",
    "for param in resnet20_trained.layer2.parameters():\n",
    "    param.requires_grad = False    \n",
    "\n",
    "for param in resnet20_trained.layer3.parameters():\n",
    "    param.requires_grad = True\n",
    "\n",
    "# unfreeze final fc layer\n",
    "for param in resnet20_trained.fc.parameters():\n",
    "    param.requires_grad = True\n",
    "\n",
    "# replace fc layer with 10 outputs\n",
    "resnet20_trained.fc = nn.Linear(64, 10)\n",
    "\n",
    "# Observe that all parameters are being optimized\n",
    "optim = torch.optim.Adam(resnet20_trained.parameters(), lr=0.001)\n",
    "\n",
    "# Decay LR by a factor of 0.1 every 4 epochs\n",
    "sched = torch.optim.lr_scheduler.StepLR(optimizer=optim, step_size=4, gamma=0.1)\n",
    "\n",
    "# Number of epochs\n",
    "eps=5\n",
    "\n",
    "resnet20_trained_classification_2 = train(resnet20_trained, loss_fn, optim, sched, eps, trainloader_classification, valloader_classification)"
   ]
  }
 ],
 "metadata": {
  "kernelspec": {
   "display_name": "Python 3",
   "language": "python",
   "name": "python3"
  },
  "language_info": {
   "codemirror_mode": {
    "name": "ipython",
    "version": 3
   },
   "file_extension": ".py",
   "mimetype": "text/x-python",
   "name": "python",
   "nbconvert_exporter": "python",
   "pygments_lexer": "ipython3",
   "version": "3.6.8"
  }
 },
 "nbformat": 4,
 "nbformat_minor": 2
}
