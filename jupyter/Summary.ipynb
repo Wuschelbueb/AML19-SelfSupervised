{
 "cells": [
  {
   "cell_type": "markdown",
   "metadata": {},
   "source": [
    "# Self supervised learning"
   ]
  },
  {
   "cell_type": "code",
   "execution_count": 10,
   "metadata": {},
   "outputs": [],
   "source": [
    "import torch\n",
    "import torch.nn as nn\n",
    "import numpy as np\n",
    "import pandas as pd\n",
    "import time\n",
    "import torchvision.transforms.functional as tf\n",
    "\n",
    "from torch.utils.data import DataLoader, Dataset, ConcatDataset, Subset, random_split\n",
    "from torch.autograd import Variable\n",
    "from torchvision.models import resnet18\n",
    "from torchvision.datasets import FashionMNIST, ImageFolder\n",
    "from torchvision.transforms import Compose, ToTensor, Normalize, RandomRotation, ToPILImage, RandomHorizontalFlip, RandomCrop, ColorJitter, RandomResizedCrop, RandomRotation, \\\n",
    "    RandomAffine, Resize\n",
    "from matplotlib import pyplot as plt\n",
    "from random import randint\n",
    "BATCH_SIZE=64"
   ]
  },
  {
   "cell_type": "code",
   "execution_count": 11,
   "metadata": {},
   "outputs": [],
   "source": [
    "device = torch.device('cuda' if torch.cuda.is_available() else 'cpu')"
   ]
  },
  {
   "cell_type": "code",
   "execution_count": 12,
   "metadata": {},
   "outputs": [],
   "source": [
    "transform = Compose([Resize(32), ToTensor(), Normalize(mean=(0.5,), std=(0.5,))])"
   ]
  },
  {
   "cell_type": "markdown",
   "metadata": {},
   "source": [
    "# FashionMNIST"
   ]
  },
  {
   "cell_type": "code",
   "execution_count": 20,
   "metadata": {},
   "outputs": [],
   "source": [
    "class FashionMNISTDataset(Dataset):\n",
    "\n",
    "    def __init__(self, data, targets):\n",
    "        self.data = data\n",
    "        self.targets = targets\n",
    "\n",
    "    def __len__(self):\n",
    "        return len(self.data)\n",
    "\n",
    "    def __getitem__(self, index):\n",
    "        data = self.data[index][0]\n",
    "        target = self.targets[index][1]\n",
    "\n",
    "        return data, target"
   ]
  },
  {
   "cell_type": "code",
   "execution_count": null,
   "metadata": {},
   "outputs": [],
   "source": []
  },
  {
   "cell_type": "code",
   "execution_count": 21,
   "metadata": {},
   "outputs": [],
   "source": [
    "ROOT_DIR = 'fashion_mnist'\n",
    "TARGET_SIZE = 32\n",
    "TRANSFORM = Compose([Resize(TARGET_SIZE), ToTensor(), Normalize(mean=(0.5,), std=(0.5,))])\n",
    "BATCH_SIZE = 128\n",
    "\n",
    "# Download and load the training data\n",
    "train_data = FashionMNIST(root=ROOT_DIR, download=True, train=True, transform=transform)\n",
    "test_data = FashionMNIST(root=ROOT_DIR, download=True, train=False, transform=transform)"
   ]
  },
  {
   "cell_type": "code",
   "execution_count": 22,
   "metadata": {},
   "outputs": [],
   "source": [
    "def train_val_subset(split):\n",
    "    \"\"\"Splits the train data in train and validation subsets.\"\"\"\n",
    "    data_set = train_data\n",
    "    nbr_train_examples = int(len(data_set) * split)\n",
    "    nbr_val_examples = len(data_set) - nbr_train_examples\n",
    "\n",
    "    return random_split(data_set, [nbr_train_examples, nbr_val_examples])"
   ]
  },
  {
   "cell_type": "code",
   "execution_count": 23,
   "metadata": {},
   "outputs": [],
   "source": [
    "def train_loader_fashion_mnist():\n",
    "    \"\"\"Creates the data loader for the train data.\"\"\"\n",
    "    train_subset, _ = train_val_subset(0.8)\n",
    "\n",
    "    train_set = FashionMNISTDataset(\n",
    "        data=train_subset,\n",
    "        targets=train_subset\n",
    "    )\n",
    "\n",
    "    return DataLoader(train_set, batch_size=BATCH_SIZE, shuffle=True)"
   ]
  },
  {
   "cell_type": "code",
   "execution_count": 24,
   "metadata": {},
   "outputs": [],
   "source": [
    "def val_loader_fashion_mnist():\n",
    "    \"\"\"Creates the data loader for the validation data.\"\"\"\n",
    "    _, val_subset = train_val_subset(0.8)\n",
    "\n",
    "    val_set = FashionMNISTDataset(\n",
    "        data=val_subset,\n",
    "        targets=val_subset\n",
    "    )\n",
    "\n",
    "    return DataLoader(val_set, batch_size=BATCH_SIZE, shuffle=False)"
   ]
  },
  {
   "cell_type": "code",
   "execution_count": 25,
   "metadata": {},
   "outputs": [],
   "source": [
    "def test_loader_fashion_mnist():\n",
    "    \"\"\"Creates the data loader for the test data.\"\"\"\n",
    "    return DataLoader(test_data, batch_size=BATCH_SIZE, shuffle=False)"
   ]
  },
  {
   "cell_type": "code",
   "execution_count": 28,
   "metadata": {},
   "outputs": [
    {
     "name": "stdout",
     "output_type": "stream",
     "text": [
      "60000\n",
      "94\n",
      "10000\n"
     ]
    }
   ],
   "source": [
    "train_set = train_data\n",
    "val_set = val_loader_fashion_mnist()\n",
    "test_set = test_data\n",
    "\n",
    "print(len(train_set))\n",
    "print(len(val_set))\n",
    "print(len(test_set))\n"
   ]
  },
  {
   "cell_type": "code",
   "execution_count": 27,
   "metadata": {},
   "outputs": [
    {
     "name": "stdout",
     "output_type": "stream",
     "text": [
      "torch.Size([128, 1, 32, 32]) torch.Size([128])\n",
      "tensor([1, 0, 3, 1, 4, 5, 2, 2, 1, 3, 3, 0, 9, 2, 4, 5, 0, 5, 6, 5, 4, 9, 2, 4,\n",
      "        7, 7, 9, 3, 6, 9, 9, 6, 1, 4, 6, 1, 1, 6, 8, 8, 2, 2, 8, 2, 0, 0, 0, 3,\n",
      "        8, 0, 7, 5, 1, 8, 2, 9, 5, 4, 2, 3, 0, 6, 1, 6, 9, 8, 9, 9, 0, 0, 0, 6,\n",
      "        0, 8, 4, 2, 5, 9, 6, 1, 7, 7, 9, 6, 8, 1, 4, 9, 1, 1, 0, 7, 0, 1, 4, 1,\n",
      "        1, 9, 1, 4, 8, 1, 2, 7, 6, 9, 7, 3, 0, 4, 5, 6, 7, 5, 9, 4, 3, 5, 6, 8,\n",
      "        2, 4, 9, 1, 2, 0, 9, 1])\n",
      "torch.Size([128, 1, 32, 32]) torch.Size([128])\n",
      "tensor([0, 4, 7, 0, 6, 1, 9, 6, 7, 5, 6, 4, 8, 6, 1, 4, 0, 5, 8, 6, 1, 8, 1, 5,\n",
      "        3, 6, 2, 6, 8, 2, 8, 1, 6, 9, 4, 5, 3, 4, 4, 9, 6, 5, 1, 7, 9, 6, 0, 8,\n",
      "        5, 2, 1, 3, 3, 3, 9, 3, 9, 3, 1, 7, 1, 7, 1, 1, 8, 5, 3, 1, 9, 5, 9, 8,\n",
      "        2, 6, 3, 3, 7, 9, 8, 6, 1, 7, 9, 8, 1, 0, 4, 4, 1, 9, 2, 3, 5, 2, 1, 5,\n",
      "        0, 6, 8, 7, 4, 1, 5, 5, 2, 8, 9, 6, 6, 9, 7, 4, 4, 0, 1, 7, 3, 0, 5, 1,\n",
      "        6, 8, 1, 3, 4, 7, 3, 2])\n",
      "torch.Size([128, 1, 32, 32]) torch.Size([128])\n",
      "tensor([9, 2, 1, 1, 6, 1, 4, 6, 5, 7, 4, 5, 7, 3, 4, 1, 2, 4, 8, 0, 2, 5, 7, 9,\n",
      "        1, 4, 6, 0, 9, 3, 8, 8, 3, 3, 8, 0, 7, 5, 7, 9, 6, 1, 3, 7, 6, 7, 2, 1,\n",
      "        2, 2, 4, 4, 5, 8, 2, 2, 8, 4, 8, 0, 7, 7, 8, 5, 1, 1, 2, 3, 9, 8, 7, 0,\n",
      "        2, 6, 2, 3, 1, 2, 8, 4, 1, 8, 5, 9, 5, 0, 3, 2, 0, 6, 5, 3, 6, 7, 1, 8,\n",
      "        0, 1, 4, 2, 3, 6, 7, 2, 7, 8, 5, 9, 9, 4, 2, 5, 7, 0, 5, 2, 8, 6, 7, 8,\n",
      "        0, 0, 9, 9, 3, 0, 8, 4])\n"
     ]
    }
   ],
   "source": [
    "train_loader = train_loader_fashion_mnist()\n",
    "val_loader = val_loader_fashion_mnist()\n",
    "test_loader = test_loader_fashion_mnist()\n",
    "\n",
    "for xs, ys in train_loader:\n",
    "    print(xs.size(), ys.size())\n",
    "    print(ys)\n",
    "    break    \n",
    "    \n",
    "for xs, ys in val_loader:\n",
    "    print(xs.size(), ys.size())\n",
    "    print(ys)\n",
    "    break\n",
    "\n",
    "for xs, ys in test_loader:\n",
    "    print(xs.size(), ys.size())\n",
    "    print(ys)\n",
    "    break        "
   ]
  },
  {
   "cell_type": "markdown",
   "metadata": {},
   "source": [
    "## Rotation"
   ]
  },
  {
   "cell_type": "code",
   "execution_count": 13,
   "metadata": {},
   "outputs": [],
   "source": [
    "def rotate(image, angle):\n",
    "    \"\"\"Rotate the image by the specified angle\"\"\"\n",
    "    image = tf.to_pil_image(image)\n",
    "    image = tf.rotate(image, angle)\n",
    "    image = tf.to_tensor(image)\n",
    "    image = tf.normalize(image, (0.5,), (0.5,))\n",
    "    return image"
   ]
  },
  {
   "cell_type": "code",
   "execution_count": 14,
   "metadata": {},
   "outputs": [
    {
     "name": "stdout",
     "output_type": "stream",
     "text": [
      "torch.Size([256, 1, 32, 32])\n",
      "torch.Size([256])\n"
     ]
    },
    {
     "data": {
      "image/png": "[encoded data removed]",
      "text/plain": [
       "<Figure size 921.6x691.2 with 6 Axes>"
      ]
     },
     "metadata": {
      "needs_background": "light"
     },
     "output_type": "display_data"
    }
   ],
   "source": [
    "for images, labels in train_loader:\n",
    "    images = images.to(device)\n",
    "    labels = labels.to(device)\n",
    "\n",
    "    images_rotated = []\n",
    "    labes_rotated = []\n",
    "\n",
    "    for img in images:\n",
    "        rotated_imgs = [\n",
    "            img,\n",
    "            rotate(img, 90),\n",
    "            rotate(img, 180),\n",
    "            rotate(img, 270)\n",
    "        ]\n",
    "        rotation_labels = torch.LongTensor([0, 1, 2, 3])\n",
    "        stack = torch.stack(rotated_imgs, dim=0)\n",
    "\n",
    "        images_rotated.append(stack)\n",
    "        labes_rotated.append(rotation_labels)\n",
    "\n",
    "    images = torch.cat(images_rotated, dim=0)\n",
    "    labels = torch.cat(labes_rotated, dim=0)\n",
    "    print(images.shape)\n",
    "    print(labels.shape)\n",
    "    \n",
    "    f, axes = plt.subplots(2, 3, figsize=(12.8, 9.6))\n",
    "    axes = [ax for axs in axes for ax in axs]\n",
    "\n",
    "    for i in range(6):\n",
    "        index = randint(0, len(images))\n",
    "        image = images[index]\n",
    "        label = labels[index]\n",
    "        axes[i].imshow(image[0].view(32, 32), cmap='gray')\n",
    "        axes[i].set_title('Class:' + str(label))\n",
    "        axes[i].axis('off')  \n",
    "    \n",
    "    break"
   ]
  },
  {
   "cell_type": "markdown",
   "metadata": {},
   "source": [
    "## Exemplar CNN"
   ]
  },
  {
   "cell_type": "code",
   "execution_count": 15,
   "metadata": {},
   "outputs": [],
   "source": [
    "def horizontal_flip(image):\n",
    "    \"\"\"Flip image horiontally.\"\"\"\n",
    "    transform = Compose([\n",
    "        RandomHorizontalFlip(p=1.0),\n",
    "        Resize(32),\n",
    "        ToTensor(),\n",
    "        Normalize(mean=(0.5,), std=(0.5,))\n",
    "    ])\n",
    "    img = transform(image)\n",
    "    return img\n",
    "\n",
    "\n",
    "def random_crop(image):\n",
    "    \"\"\"Crop Image.\"\"\"\n",
    "    transform = Compose([\n",
    "        RandomCrop((20, 20)),\n",
    "        Resize(32),\n",
    "        ToTensor(),\n",
    "        Normalize(mean=(0.5,), std=(0.5,))\n",
    "    ])\n",
    "    img = transform(image)\n",
    "    return img\n",
    "\n",
    "\n",
    "def color_jitter(image):\n",
    "    \"\"\"Apply color jitter.\"\"\"\n",
    "    transform = Compose([\n",
    "        ColorJitter(brightness=0.4, contrast=0.4, saturation=0.4, hue=0.02),\n",
    "        Resize(32),\n",
    "        ToTensor(),\n",
    "        Normalize(mean=(0.5,), std=(0.5,))\n",
    "    ])\n",
    "    img = transform(image)\n",
    "    return img\n",
    "\n",
    "\n",
    "def random_resized_crop(image):\n",
    "    \"\"\"Randomly resize and crop image.\"\"\"\n",
    "    transform = Compose([\n",
    "        RandomResizedCrop(40, scale=(0.2, 1.0), ratio=(0.75, 1.333)),\n",
    "        Resize(32),\n",
    "        ToTensor(),\n",
    "        Normalize(mean=(0.5,), std=(0.5,))\n",
    "    ])\n",
    "    img = transform(image)\n",
    "    return img\n",
    "\n",
    "\n",
    "def random_rotation(image):\n",
    "    \"\"\"Randomly rotate image.\"\"\"\n",
    "    transform = Compose([\n",
    "        RandomRotation(45),\n",
    "        Resize(32),\n",
    "        ToTensor(),\n",
    "        Normalize(mean=(0.5,), std=(0.5,))\n",
    "    ])\n",
    "    img = transform(image)\n",
    "    return img\n",
    "\n",
    "\n",
    "def random_affine_transformation(image):\n",
    "    \"\"\"Applies a random affine transformation to the image.\"\"\"\n",
    "    transform = Compose([\n",
    "        RandomAffine(degrees=15, translate=(0.1, 0.1), scale=(0.8, 1.3), shear=10),\n",
    "        Resize(32),\n",
    "        ToTensor(),\n",
    "        Normalize(mean=(0.5,), std=(0.5,))\n",
    "    ])\n",
    "    img = transform(image)\n",
    "    return img"
   ]
  },
  {
   "cell_type": "code",
   "execution_count": 16,
   "metadata": {},
   "outputs": [],
   "source": [
    "def transform_image(image, transformation):\n",
    "    \"\"\"Randomly transforms one image.\"\"\"\n",
    "    transform = ToPILImage()\n",
    "    img = transform(image.cpu())\n",
    "\n",
    "    if transformation == 0:\n",
    "        return horizontal_flip(img)\n",
    "    if transformation == 1:\n",
    "        return random_crop(img)\n",
    "    if transformation == 2:\n",
    "        return color_jitter(img)\n",
    "    if transformation == 3:\n",
    "        return random_resized_crop(img)\n",
    "    if transformation == 4:\n",
    "        return random_rotation(img)\n",
    "    if transformation == 5:\n",
    "        return random_affine_transformation(img)"
   ]
  },
  {
   "cell_type": "code",
   "execution_count": 17,
   "metadata": {},
   "outputs": [
    {
     "name": "stdout",
     "output_type": "stream",
     "text": [
      "torch.Size([384, 1, 32, 32])\n",
      "torch.Size([384])\n"
     ]
    },
    {
     "ename": "IndexError",
     "evalue": "index 384 is out of bounds for dimension 0 with size 384",
     "output_type": "error",
     "traceback": [
      "\u001b[0;31m---------------------------------------------------------------------------\u001b[0m",
      "\u001b[0;31mIndexError\u001b[0m                                Traceback (most recent call last)",
      "\u001b[0;32m<ipython-input-17-ae7bf3408b77>\u001b[0m in \u001b[0;36m<module>\u001b[0;34m\u001b[0m\n\u001b[1;32m     31\u001b[0m     \u001b[0;32mfor\u001b[0m \u001b[0mi\u001b[0m \u001b[0;32min\u001b[0m \u001b[0mrange\u001b[0m\u001b[0;34m(\u001b[0m\u001b[0;36m6\u001b[0m\u001b[0;34m)\u001b[0m\u001b[0;34m:\u001b[0m\u001b[0;34m\u001b[0m\u001b[0;34m\u001b[0m\u001b[0m\n\u001b[1;32m     32\u001b[0m         \u001b[0mindex\u001b[0m \u001b[0;34m=\u001b[0m \u001b[0mrandint\u001b[0m\u001b[0;34m(\u001b[0m\u001b[0;36m0\u001b[0m\u001b[0;34m,\u001b[0m \u001b[0mlen\u001b[0m\u001b[0;34m(\u001b[0m\u001b[0mimages\u001b[0m\u001b[0;34m)\u001b[0m\u001b[0;34m)\u001b[0m\u001b[0;34m\u001b[0m\u001b[0;34m\u001b[0m\u001b[0m\n\u001b[0;32m---> 33\u001b[0;31m         \u001b[0mimage\u001b[0m \u001b[0;34m=\u001b[0m \u001b[0mimages\u001b[0m\u001b[0;34m[\u001b[0m\u001b[0mindex\u001b[0m\u001b[0;34m]\u001b[0m\u001b[0;34m\u001b[0m\u001b[0;34m\u001b[0m\u001b[0m\n\u001b[0m\u001b[1;32m     34\u001b[0m         \u001b[0mlabel\u001b[0m \u001b[0;34m=\u001b[0m \u001b[0mlabels\u001b[0m\u001b[0;34m[\u001b[0m\u001b[0mindex\u001b[0m\u001b[0;34m]\u001b[0m\u001b[0;34m\u001b[0m\u001b[0;34m\u001b[0m\u001b[0m\n\u001b[1;32m     35\u001b[0m         \u001b[0maxes\u001b[0m\u001b[0;34m[\u001b[0m\u001b[0mi\u001b[0m\u001b[0;34m]\u001b[0m\u001b[0;34m.\u001b[0m\u001b[0mimshow\u001b[0m\u001b[0;34m(\u001b[0m\u001b[0mimage\u001b[0m\u001b[0;34m[\u001b[0m\u001b[0;36m0\u001b[0m\u001b[0;34m]\u001b[0m\u001b[0;34m.\u001b[0m\u001b[0mview\u001b[0m\u001b[0;34m(\u001b[0m\u001b[0;36m32\u001b[0m\u001b[0;34m,\u001b[0m \u001b[0;36m32\u001b[0m\u001b[0;34m)\u001b[0m\u001b[0;34m,\u001b[0m \u001b[0mcmap\u001b[0m\u001b[0;34m=\u001b[0m\u001b[0;34m'gray'\u001b[0m\u001b[0;34m)\u001b[0m\u001b[0;34m\u001b[0m\u001b[0;34m\u001b[0m\u001b[0m\n",
      "\u001b[0;31mIndexError\u001b[0m: index 384 is out of bounds for dimension 0 with size 384"
     ]
    },
    {
     "data": {
      "image/png": "[encoded data removed]",
      "text/plain": [
       "<Figure size 921.6x691.2 with 6 Axes>"
      ]
     },
     "metadata": {
      "needs_background": "light"
     },
     "output_type": "display_data"
    }
   ],
   "source": [
    "for images, labels in train_loader:\n",
    "    images = images.to(device)\n",
    "    labels = labels.to(device)\n",
    "\n",
    "    images_transformed = []\n",
    "    labes_transformed = []\n",
    "\n",
    "    for index, img in enumerate(images):\n",
    "        transformed_imgs = [\n",
    "            transform_image(img, 0),\n",
    "            transform_image(img, 1),\n",
    "            transform_image(img, 2),\n",
    "            transform_image(img, 3),\n",
    "            transform_image(img, 4),\n",
    "            transform_image(img, 5),\n",
    "        ]\n",
    "        transformed_labels = torch.LongTensor([index, index, index, index, index, index])\n",
    "        stack = torch.stack(transformed_imgs, dim=0)\n",
    "\n",
    "        images_transformed.append(stack)\n",
    "        labes_transformed.append(transformed_labels)\n",
    "\n",
    "    images = torch.cat(images_transformed, dim=0)\n",
    "    labels = torch.cat(labes_transformed, dim=0)\n",
    "    print(images.shape)\n",
    "    print(labels.shape)\n",
    "    \n",
    "    f, axes = plt.subplots(2, 3, figsize=(12.8, 9.6))\n",
    "    axes = [ax for axs in axes for ax in axs]\n",
    "\n",
    "    for i in range(6):\n",
    "        index = randint(0, len(images))\n",
    "        image = images[index]\n",
    "        label = labels[index]\n",
    "        axes[i].imshow(image[0].view(32, 32), cmap='gray')\n",
    "        axes[i].set_title('Class:' + str(label))\n",
    "        axes[i].axis('off')  \n",
    "    \n",
    "    break"
   ]
  },
  {
   "cell_type": "markdown",
   "metadata": {},
   "source": [
    "## DeepFashion"
   ]
  },
  {
   "cell_type": "code",
   "execution_count": 30,
   "metadata": {},
   "outputs": [],
   "source": [
    "from torch.utils.data import Dataset\n",
    "\n",
    "class DeepFashionDataset(Dataset):\n",
    "\n",
    "    def __init__(self, data, target):\n",
    "        self.data = data\n",
    "        self.target = target\n",
    "\n",
    "    def __len__(self):\n",
    "        return len(self.data)\n",
    "\n",
    "    def __getitem__(self, index):\n",
    "        datapoint = self.data[index][0]\n",
    "        target = self.target[index]\n",
    "\n",
    "        return datapoint, target"
   ]
  },
  {
   "cell_type": "code",
   "execution_count": 31,
   "metadata": {},
   "outputs": [],
   "source": [
    "ROOT_DIR = '../img/'\n",
    "TARGET_SIZE = (32, 32)\n",
    "BATCH_SIZE = 64"
   ]
  },
  {
   "cell_type": "code",
   "execution_count": 34,
   "metadata": {},
   "outputs": [],
   "source": [
    "def load_images():\n",
    "    \"\"\"Load the images from the root directory.\"\"\"\n",
    "    transforms = Compose([\n",
    "        Resize(TARGET_SIZE),\n",
    "        ToTensor(),\n",
    "        Normalize(mean=(0.5, 0.5, 0.5), std=(0.5, 0.5, 0.5)),\n",
    "    ])\n",
    "    return ImageFolder(ROOT_DIR, transform=transforms)"
   ]
  },
  {
   "cell_type": "code",
   "execution_count": 192,
   "metadata": {},
   "outputs": [
    {
     "name": "stdout",
     "output_type": "stream",
     "text": [
      "289219\n"
     ]
    }
   ],
   "source": [
    "images = load_images()\n",
    "print(len(images))"
   ]
  },
  {
   "cell_type": "code",
   "execution_count": 35,
   "metadata": {},
   "outputs": [],
   "source": [
    "def load_list_category_img():\n",
    "    \"\"\"Load the list containing the image name and the associated category.\"\"\"\n",
    "    list_category_img = pd.read_csv('../list_category_img.txt', sep=\"\\t\", header=0)\n",
    "    list_category_img.columns = [\"image_name\", \"category_label\"]\n",
    "    return list_category_img\n"
   ]
  },
  {
   "cell_type": "code",
   "execution_count": 36,
   "metadata": {},
   "outputs": [],
   "source": [
    "def load_list_category_cloth():\n",
    "    \"\"\"Load the list containing the category name and the associated category type.\"\"\"\n",
    "    list_category_cloth = pd.read_csv('../list_category_cloth.txt', sep=\"\\t\", header=0)\n",
    "    list_category_cloth.columns = [\"category_name\", \"category_type\"]\n",
    "    return list_category_cloth\n"
   ]
  },
  {
   "cell_type": "code",
   "execution_count": 37,
   "metadata": {},
   "outputs": [],
   "source": [
    "def load_list_eval_partition():\n",
    "    \"\"\"Load the list containing the image name and the associated evaluation status.\"\"\"\n",
    "    list_eval_partition = pd.read_csv('../list_eval_partition.txt', sep=\"\\t\", header=0)\n",
    "    list_eval_partition.columns = [\"image_name\", \"evaluation_status\"]\n",
    "    return list_eval_partition"
   ]
  },
  {
   "cell_type": "code",
   "execution_count": 38,
   "metadata": {},
   "outputs": [],
   "source": [
    "def train_data():\n",
    "    \"\"\"Return the images with the evaluation status 'train'.\"\"\"\n",
    "    images = load_images()\n",
    "    partition = load_list_eval_partition()\n",
    "    labels = load_list_category_img()\n",
    "\n",
    "    train_indices = partition[partition.evaluation_status == 'train'].index\n",
    "    train_images = Subset(images, train_indices)\n",
    "    train_labels = labels.category_label[train_indices].values\n",
    "\n",
    "    return DeepFashionDataset(train_images, train_labels)"
   ]
  },
  {
   "cell_type": "code",
   "execution_count": 39,
   "metadata": {},
   "outputs": [],
   "source": [
    "def val_data():\n",
    "    \"\"\"Return the images with the evaluation status 'val'.\"\"\"\n",
    "    images = load_images()\n",
    "    partition = load_list_eval_partition()\n",
    "    labels = load_list_category_img()\n",
    "\n",
    "    val_indices = partition[partition.evaluation_status == 'val'].index\n",
    "    val_images = Subset(images, val_indices)\n",
    "    val_labels = labels.category_label[val_indices].values\n",
    "    return DeepFashionDataset(val_images, val_labels)"
   ]
  },
  {
   "cell_type": "code",
   "execution_count": 40,
   "metadata": {},
   "outputs": [],
   "source": [
    "def test_data():\n",
    "    \"\"\"Return the images with the evaluation status 'test'.\"\"\"\n",
    "    images = load_images()\n",
    "    partition = load_list_eval_partition()\n",
    "    labels = load_list_category_img()\n",
    "\n",
    "    test_indices = partition[partition.evaluation_status == 'test'].index\n",
    "    print(test_indices)\n",
    "    print(images[289216])\n",
    "    print(len(test_indices))\n",
    "    test_images = Subset(images, test_indices)\n",
    "    test_labels = labels.category_label[test_indices].values\n",
    "    return DeepFashionDataset(test_images, test_labels)\n"
   ]
  },
  {
   "cell_type": "code",
   "execution_count": 41,
   "metadata": {},
   "outputs": [],
   "source": [
    "def train_loader_deep_fashion():\n",
    "    \"\"\"Return the data loader for the train data.\"\"\"\n",
    "    return DataLoader(train_data(), batch_size=BATCH_SIZE, shuffle=True)"
   ]
  },
  {
   "cell_type": "code",
   "execution_count": 42,
   "metadata": {},
   "outputs": [],
   "source": [
    "def val_loader_deep_fashion():\n",
    "    \"\"\"Return the data loader for the validation data.\"\"\"\n",
    "    return DataLoader(val_data(), batch_size=BATCH_SIZE, shuffle=False)"
   ]
  },
  {
   "cell_type": "code",
   "execution_count": 43,
   "metadata": {},
   "outputs": [],
   "source": [
    "def test_loader_deep_fashion():\n",
    "    \"\"\"Return the data loader for the test data.\"\"\"\n",
    "    return DataLoader(test_data(), batch_size=BATCH_SIZE, shuffle=False)"
   ]
  },
  {
   "cell_type": "code",
   "execution_count": 44,
   "metadata": {},
   "outputs": [
    {
     "name": "stdout",
     "output_type": "stream",
     "text": [
      "torch.Size([64, 3, 32, 32])\n",
      "torch.Size([64])\n",
      "tensor([0, 1, 2, 3, 0, 1, 2, 3, 0, 1, 2, 3, 0, 1, 2, 3, 0, 1, 2, 3, 0, 1, 2, 3,\n",
      "        0, 1, 2, 3, 0, 1, 2, 3, 0, 1, 2, 3, 0, 1, 2, 3, 0, 1, 2, 3, 0, 1, 2, 3,\n",
      "        0, 1, 2, 3, 0, 1, 2, 3, 0, 1, 2, 3, 0, 1, 2, 3, 0, 1, 2, 3, 0, 1, 2, 3,\n",
      "        0, 1, 2, 3, 0, 1, 2, 3, 0, 1, 2, 3, 0, 1, 2, 3, 0, 1, 2, 3, 0, 1, 2, 3,\n",
      "        0, 1, 2, 3, 0, 1, 2, 3, 0, 1, 2, 3, 0, 1, 2, 3, 0, 1, 2, 3, 0, 1, 2, 3,\n",
      "        0, 1, 2, 3, 0, 1, 2, 3, 0, 1, 2, 3, 0, 1, 2, 3, 0, 1, 2, 3, 0, 1, 2, 3,\n",
      "        0, 1, 2, 3, 0, 1, 2, 3, 0, 1, 2, 3, 0, 1, 2, 3, 0, 1, 2, 3, 0, 1, 2, 3,\n",
      "        0, 1, 2, 3, 0, 1, 2, 3, 0, 1, 2, 3, 0, 1, 2, 3, 0, 1, 2, 3, 0, 1, 2, 3,\n",
      "        0, 1, 2, 3, 0, 1, 2, 3, 0, 1, 2, 3, 0, 1, 2, 3, 0, 1, 2, 3, 0, 1, 2, 3,\n",
      "        0, 1, 2, 3, 0, 1, 2, 3, 0, 1, 2, 3, 0, 1, 2, 3, 0, 1, 2, 3, 0, 1, 2, 3,\n",
      "        0, 1, 2, 3, 0, 1, 2, 3, 0, 1, 2, 3, 0, 1, 2, 3])\n",
      "torch.Size([256, 3, 32, 32])\n",
      "torch.Size([256])\n"
     ]
    }
   ],
   "source": [
    "for images, labels in train_loader_deep_fashion():\n",
    "    images = images\n",
    "    labels = labels\n",
    "\n",
    "    print(images.shape)\n",
    "    print(labels.shape)\n",
    "    \n",
    "    images_rotated = []\n",
    "    labes_rotated = []\n",
    "    \n",
    "    for index, img in enumerate(images):\n",
    "        rotated_imgs = [\n",
    "            img,\n",
    "            rotate(img, 90),\n",
    "            rotate(img, 180),\n",
    "            rotate(img, 270)\n",
    "        ]\n",
    "        rotation_labels = torch.LongTensor([0, 1, 2, 3])\n",
    "        stack = torch.stack(rotated_imgs, dim=0)\n",
    "\n",
    "        images_rotated.append(stack)\n",
    "        labes_rotated.append(rotation_labels)\n",
    "\n",
    "    images = torch.cat(images_rotated, dim=0)\n",
    "    labels = torch.cat(labes_rotated, dim=0)\n",
    "    print(labels)\n",
    "    print(images.shape)\n",
    "    print(labels.shape)\n",
    "    break"
   ]
  },
  {
   "cell_type": "code",
   "execution_count": 147,
   "metadata": {},
   "outputs": [],
   "source": [
    "def default_loader(path):\n",
    "    return Image.open(path)"
   ]
  },
  {
   "cell_type": "code",
   "execution_count": 107,
   "metadata": {},
   "outputs": [],
   "source": [
    "def train_data():\n",
    "    \"\"\"Return the images with the evaluation status 'train'.\"\"\"\n",
    "    partition = load_list_eval_partition()\n",
    "    labels = load_list_category_img()\n",
    "\n",
    "    result = partition[partition.evaluation_status == 'train']\n",
    "    train_indices = result.index\n",
    "    \n",
    "    list_train_images = result.image_name.values\n",
    "    train_labels = labels.category_label[train_indices].values\n",
    "    \n",
    "    return list_train_images, train_labels"
   ]
  },
  {
   "cell_type": "code",
   "execution_count": null,
   "metadata": {},
   "outputs": [],
   "source": [
    "def val_data():\n",
    "    \"\"\"Return the images with the evaluation status 'train'.\"\"\"\n",
    "    partition = load_list_eval_partition()\n",
    "    labels = load_list_category_img()\n",
    "\n",
    "    result = partition[partition.evaluation_status == 'val']\n",
    "    val_indices = result.index\n",
    "    \n",
    "    list_val_images = result.image_name.values\n",
    "    val_labels = labels.category_label[val_indices].values\n",
    "    \n",
    "    return list_val_images, val_labels"
   ]
  },
  {
   "cell_type": "code",
   "execution_count": null,
   "metadata": {},
   "outputs": [],
   "source": [
    "def test_data():\n",
    "    \"\"\"Return the images with the evaluation status 'train'.\"\"\"\n",
    "    partition = load_list_eval_partition()\n",
    "    labels = load_list_category_img()\n",
    "\n",
    "    result = partition[partition.evaluation_status == 'test']\n",
    "    test_indices = result.index\n",
    "    \n",
    "    list_test_images = result.image_name.values\n",
    "    test_labels = labels.category_label[test_indices].values\n",
    "    \n",
    "    return list_test_images, test_labels"
   ]
  },
  {
   "cell_type": "code",
   "execution_count": 168,
   "metadata": {},
   "outputs": [],
   "source": [
    "class ImageFilelist(Dataset):\n",
    "    def __init__(self, root, flist, targets, transform=None,loader=None):\n",
    "        self.root = root\n",
    "        self.imlist = flist\n",
    "        self.targets = targets\n",
    "        self.transform = transform\n",
    "        self.loader = loader\n",
    "\n",
    "    def __getitem__(self, index):\n",
    "        try:\n",
    "            impath = self.imlist[index]\n",
    "            img = self.loader(os.path.join(self.root, impath))\n",
    "            target = self.targets[index]\n",
    "            if self.transform is not None:\n",
    "                img = self.transform(img)\n",
    "            return img, target\n",
    "        except:\n",
    "            print('do nothing')\n",
    "\n",
    "    def __len__(self):\n",
    "        return len(self.imlist)"
   ]
  },
  {
   "cell_type": "code",
   "execution_count": 169,
   "metadata": {},
   "outputs": [],
   "source": [
    "transforms = Compose([\n",
    "        Resize(TARGET_SIZE),\n",
    "        ToTensor(),\n",
    "        Normalize(mean=(0.5, 0.5, 0.5), std=(0.5, 0.5, 0.5)),\n",
    "    ])\n",
    "\n",
    "train_images_list, targets = train_data()\n",
    "train_set = ImageFilelist(root=\"../\", flist=train_images_list, targets=targets, transform=transforms, loader=default_loader)\n"
   ]
  },
  {
   "cell_type": "code",
   "execution_count": 170,
   "metadata": {},
   "outputs": [
    {
     "name": "stdout",
     "output_type": "stream",
     "text": [
      "209222\n"
     ]
    }
   ],
   "source": [
    "print(len(train_set))"
   ]
  },
  {
   "cell_type": "code",
   "execution_count": 177,
   "metadata": {},
   "outputs": [],
   "source": [
    "def train_loader_deep_fashion_test():\n",
    "    \"\"\"Return the data loader for the train data.\"\"\"\n",
    "    return DataLoader(train_set, batch_size=64, shuffle=False)"
   ]
  },
  {
   "cell_type": "code",
   "execution_count": 178,
   "metadata": {},
   "outputs": [
    {
     "name": "stdout",
     "output_type": "stream",
     "text": [
      "torch.Size([64, 3, 32, 32]) torch.Size([64])\n",
      "tensor([3, 3, 3, 3, 3, 3, 3, 3, 3, 3, 3, 3, 3, 3, 3, 3, 3, 3, 3, 3, 3, 3, 3, 3,\n",
      "        3, 3, 3, 3, 3, 3, 3, 3, 3, 3, 3, 3, 3, 3, 3, 3, 3, 3, 3, 3, 3, 3, 3, 3,\n",
      "        3, 3, 3, 3, 3, 3, 3, 3, 3, 3, 3, 3, 3, 3, 3, 3])\n"
     ]
    }
   ],
   "source": [
    "train_loader = train_loader_deep_fashion_test()\n",
    "\n",
    "for xs, ys in train_loader:\n",
    "    print(xs.size(), ys.size())\n",
    "    print(ys) \n",
    "    break"
   ]
  },
  {
   "cell_type": "code",
   "execution_count": 190,
   "metadata": {},
   "outputs": [],
   "source": [
    "def rotate(image, angle):\n",
    "    \"\"\"Rotate the image by the specified angle\"\"\"\n",
    "    \n",
    "    image = tf.to_pil_image(image)\n",
    "    image = tf.rotate(image, angle)\n",
    "    image = tf.to_tensor(image)\n",
    "    if image.shape[0] == 3:\n",
    "        image = tf.normalize(image, (0.5,0.5,0.5,), (0.5,0.5,0.5,))\n",
    "    else:\n",
    "        image = tf.normalize(image, (0.5,), (0.5,))\n",
    "    return image"
   ]
  },
  {
   "cell_type": "code",
   "execution_count": 191,
   "metadata": {},
   "outputs": [
    {
     "name": "stdout",
     "output_type": "stream",
     "text": [
      "torch.Size([64, 3, 32, 32])\n",
      "torch.Size([64])\n",
      "tensor([0, 1, 2, 3, 0, 1, 2, 3, 0, 1, 2, 3, 0, 1, 2, 3, 0, 1, 2, 3, 0, 1, 2, 3,\n",
      "        0, 1, 2, 3, 0, 1, 2, 3, 0, 1, 2, 3, 0, 1, 2, 3, 0, 1, 2, 3, 0, 1, 2, 3,\n",
      "        0, 1, 2, 3, 0, 1, 2, 3, 0, 1, 2, 3, 0, 1, 2, 3, 0, 1, 2, 3, 0, 1, 2, 3,\n",
      "        0, 1, 2, 3, 0, 1, 2, 3, 0, 1, 2, 3, 0, 1, 2, 3, 0, 1, 2, 3, 0, 1, 2, 3,\n",
      "        0, 1, 2, 3, 0, 1, 2, 3, 0, 1, 2, 3, 0, 1, 2, 3, 0, 1, 2, 3, 0, 1, 2, 3,\n",
      "        0, 1, 2, 3, 0, 1, 2, 3, 0, 1, 2, 3, 0, 1, 2, 3, 0, 1, 2, 3, 0, 1, 2, 3,\n",
      "        0, 1, 2, 3, 0, 1, 2, 3, 0, 1, 2, 3, 0, 1, 2, 3, 0, 1, 2, 3, 0, 1, 2, 3,\n",
      "        0, 1, 2, 3, 0, 1, 2, 3, 0, 1, 2, 3, 0, 1, 2, 3, 0, 1, 2, 3, 0, 1, 2, 3,\n",
      "        0, 1, 2, 3, 0, 1, 2, 3, 0, 1, 2, 3, 0, 1, 2, 3, 0, 1, 2, 3, 0, 1, 2, 3,\n",
      "        0, 1, 2, 3, 0, 1, 2, 3, 0, 1, 2, 3, 0, 1, 2, 3, 0, 1, 2, 3, 0, 1, 2, 3,\n",
      "        0, 1, 2, 3, 0, 1, 2, 3, 0, 1, 2, 3, 0, 1, 2, 3])\n",
      "torch.Size([256, 3, 32, 32])\n",
      "torch.Size([256])\n"
     ]
    }
   ],
   "source": [
    "for images, labels in train_loader_deep_fashion_test():\n",
    "    images = images\n",
    "    labels = labels\n",
    "\n",
    "    print(images.shape)\n",
    "    print(labels.shape)\n",
    "    \n",
    "    images_rotated = []\n",
    "    labes_rotated = []\n",
    "    \n",
    "    for index, img in enumerate(images):\n",
    "        rotated_imgs = [\n",
    "            img,\n",
    "            rotate(img, 90),\n",
    "            rotate(img, 180),\n",
    "            rotate(img, 270)\n",
    "        ]\n",
    "        rotation_labels = torch.LongTensor([0, 1, 2, 3])\n",
    "        stack = torch.stack(rotated_imgs, dim=0)\n",
    "\n",
    "        images_rotated.append(stack)\n",
    "        labes_rotated.append(rotation_labels)\n",
    "\n",
    "    images = torch.cat(images_rotated, dim=0)\n",
    "    labels = torch.cat(labes_rotated, dim=0)\n",
    "    print(labels)\n",
    "    print(images.shape)\n",
    "    print(labels.shape)\n",
    "    break"
   ]
  },
  {
   "cell_type": "code",
   "execution_count": null,
   "metadata": {},
   "outputs": [],
   "source": []
  },
  {
   "cell_type": "code",
   "execution_count": null,
   "metadata": {},
   "outputs": [],
   "source": []
  }
 ],
 "metadata": {
  "kernelspec": {
   "display_name": "Python 3",
   "language": "python",
   "name": "python3"
  },
  "language_info": {
   "codemirror_mode": {
    "name": "ipython",
    "version": 3
   },
   "file_extension": ".py",
   "mimetype": "text/x-python",
   "name": "python",
   "nbconvert_exporter": "python",
   "pygments_lexer": "ipython3",
   "version": "3.6.8"
  }
 },
 "nbformat": 4,
 "nbformat_minor": 2
}
