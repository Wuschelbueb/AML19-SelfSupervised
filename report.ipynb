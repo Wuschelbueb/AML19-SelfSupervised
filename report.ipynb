{
 "cells": [
  {
   "cell_type": "markdown",
   "metadata": {},
   "source": [
    "# **Self-supervised Learning: Fashion Classification**\n",
    "## Advanced Topics in Machine Learning Project Report\n",
    "University of Bern, 2019\n",
    "\n",
    "Contributors: Ramona Beck, David Berger, Nathalie Froidevaux, Gwenael Gendre"
   ]
  },
  {
   "cell_type": "markdown",
   "metadata": {},
   "source": [
    "## Goal of the project\n",
    "The task we chose is images classification on fashion images using self supervised learning. We use two different data sets: the FashionMNIST dataset (https://github.com/zalandoresearch/fashion-mnist by Xiao et al.), comprising 70'000 images in 10 categories and the DeepFashion Dataset (http://mmlab.ie.cuhk.edu.hk/projects/DeepFashion.html) which consists of approximately 290'000 images, separated in 50 categories. "
   ]
  },
  {
   "cell_type": "markdown",
   "metadata": {},
   "source": [
    "## Description of the methods\n",
    "\n",
    "We implement self-supervised methods with three different self-supervised tasks. We first train a CIFAR-Net network (*link*) for every sub-task. Afterwards we add a linear classifier on top of it and apply finetuning to both the CIFFAR-Net and the linear classifier. In the end we test the fine-tuned model using labeled images and predict the images categories. Training for the sub-tasks and fine-tuning is done using the Cross-Entropy loss function, with Adam optimizers and decaying learning rates.   "
   ]
  },
  {
   "cell_type": "markdown",
   "metadata": {},
   "source": [
    "Here are the three different sub-tasks.\n",
    "\n",
    "- Rotation prediction (based on https://github.com/gidariss/FeatureLearningRotNet by Gidaris et al.). \n",
    "\n",
    "    The CIFAR-Net network is trained to predict the rotation of the image. Therefore we apply four different rotations (0°, 90°, 180°, 270°) to each image and associate it with the rotated angle. We then use labeled images to fine-tune the last two linear layers that will serve as classifier. The code is found in `rotation.py` .\n",
    "\n",
    "- Discriminative feature learning with Exemplar CNN (based on https://arxiv.org/abs/1406.6909 by Dosovitskiy et al.)\n",
    "\n",
    "    For this sub-task, each image is transformed 6 times via a horizontal flip, cropping, resized cropping, color jitter, rotation and affine transformation. The original image and its transformations constitute a new class. The network then learns to classify all the variants of each image. This sub-task is found under `exemplar_cnn.py` \n",
    "\n",
    "- Auto-Encoding Transformations (based on https://arxiv.org/abs/1901.04596 by Qi et al.)\n",
    "\n",
    "    We train a standard auto-encoder where we use the CIFAR-Net as encoder and and a decoder that is built accordingly. The code for this sub-task is found in `autoencoder.py` and `decoder.py`."
   ]
  },
  {
   "cell_type": "markdown",
   "metadata": {},
   "source": [
    "In addition, we also directly trained our network with supervised learning to allow us to have a comparison with the self-supervised tasks. The code can be found under `supervised_deep_fashion.py`. \n",
    "\n",
    "Therefore, for each dataset, we can compare the three subtasks with supervised training and compare the accuracies. "
   ]
  },
  {
   "cell_type": "markdown",
   "metadata": {},
   "source": [
    "## Results"
   ]
  },
  {
   "cell_type": "markdown",
   "metadata": {},
   "source": [
    "Here are the results of the different methods for the different subtasks: \n",
    "\n",
    "- For the fashionMNIST data set we use 42'000 images for training, 18'000 for validation and 10'000 for testing.\n",
    "- For the deepFashion data set we use 209'222 images for training, 40'000 for validation and 40'000 for testing."
   ]
  },
  {
   "cell_type": "markdown",
   "metadata": {},
   "source": [
    "*one table format*\n",
    "\n",
    "|Dataset|Experiment|Test Accuracy|Pretraining params|Finetuning params|\n",
    "|---|---|---:|---|---|\n",
    "|FashionMNIST|Supervised|0 %|lr = 0.01, 15 epochs|lr = 0.001, 5 epochs|\n",
    "|FashionMNIST|AET|0 %|lr = 0.01, 15 epochs|lr = 0.001, 5 epochs|\n",
    "|FashionMNIST|Exemplar CNN|0 %|lr = 0.01, 15 epochs|lr = 0.001, 5 epochs|\n",
    "|FashionMNIST|Rotation Prediction|0 %|lr = 0.01, 15 epochs|lr = 0.001, 5 epochs|\n",
    "\n",
    "\n",
    "*another possible format*\n",
    "\n",
    "**Deep Fashion Dataset**\n",
    "\n",
    "|Experiment|Test Accuracy|Pretraining params|Finetuning params|\n",
    "|---|---:|---|---|\n",
    "|Supervised|0 %|lr = 0.01, 15 epochs|lr = 0.001, 5 epochs|\n",
    "|Supervised|0 %|*maybe we have*|*other params here*|\n",
    "|AET|0 %|lr = 0.01, 15 epochs|lr = 0.001, 5 epochs|\n",
    "|Exemplar CNN|0 %|lr = 0.01, 15 epochs|lr = 0.001, 5 epochs|\n",
    "|Rotation Prediction|0 %|lr = 0.01, 15 epochs|lr = 0.001, 5 epochs|\n"
   ]
  },
  {
   "cell_type": "markdown",
   "metadata": {},
   "source": [
    "*also possible to put it in LaTeX*\n",
    "\n",
    "![title](table_example.JPG)\n"
   ]
  },
  {
   "cell_type": "markdown",
   "metadata": {},
   "source": [
    "## Examples of Use"
   ]
  },
  {
   "cell_type": "markdown",
   "metadata": {},
   "source": [
    "You need to download the DeepFashion dataset and place it in the root directory in a folder called `/img`. You also have to download the following text files that contain additional informations to each image:\n",
    "- list_category_cloth.txt: specifies the category name for each category\n",
    "- list_category_img.txt: specifies the clothing category labels\n",
    "- list_eval_partition.txt: specifies the image names for training, validation and testing set respectively\n",
    "\n",
    "Put these textfiles in the root directory.\n",
    "\n",
    "- The dataset can be found under: http://mmlab.ie.cuhk.edu.hk/projects/DeepFashion.\n",
    "\n",
    "\n",
    "After that the only thing you need to do is execute the main.py file. This will start the whole process.\n",
    "\n",
    "1. The main.py file will then start the training of the different pretraining methods.\n",
    "2. After the training the model is finetuned.\n",
    "3. In a final step we evalute each method with the testset of each dataset.\n",
    "\n",
    "In each step we are able to plot the curves and to compare the results. These plots get saved in a folder named /Plot."
   ]
  },
  {
   "cell_type": "code",
   "execution_count": 1,
   "metadata": {},
   "outputs": [],
   "source": [
    "# Here are some sample images from the FashionMnist and DeepFashion Dataset\n",
    "# First we need to import some libraries, so we can display the pictures.\n",
    "import torch\n",
    "import numpy as np\n",
    "import matplotlib.pyplot as plt\n",
    "%matplotlib inline\n",
    "import torchvision\n",
    "from PIL import Image\n",
    "\n",
    "# after that we need to load the two datasets\n",
    "fashionmnist = torchvision.datasets.FashionMNIST('fashion_mnist/', train=True, download=True)"
   ]
  },
  {
   "cell_type": "code",
   "execution_count": 2,
   "metadata": {},
   "outputs": [
    {
     "data": {
      "image/png": "[encoded data removed]",
      "text/plain": [
       "<Figure size 432x288 with 5 Axes>"
      ]
     },
     "metadata": {
      "needs_background": "light"
     },
     "output_type": "display_data"
    }
   ],
   "source": [
    "# here are some pictures of the fashionMNIST dataset\n",
    "fig = plt.figure()\n",
    "for i in range (len(fashionmnist)):\n",
    "    sampleImg = fashionmnist[i][0]\n",
    "    fig.add_subplot(1,5,i+1)\n",
    "    plt.imshow(sampleImg, cmap='gray')\n",
    "    plt.tight_layout()\n",
    "    if i == 4:   \n",
    "        plt.show()  \n",
    "        break"
   ]
  },
  {
   "cell_type": "code",
   "execution_count": 3,
   "metadata": {},
   "outputs": [
    {
     "data": {
      "image/png": "[encoded data removed]",
      "text/plain": [
       "<Figure size 432x288 with 5 Axes>"
      ]
     },
     "metadata": {
      "needs_background": "light"
     },
     "output_type": "display_data"
    }
   ],
   "source": [
    "# here are some pictures of the DeepFashion dataset\n",
    "# in the dataloader they all get scaled to the size of 32x32 pixel\n",
    "\n",
    "image1 = Image.open('img/Abstract_Brushstroke_Pocket_Top/img_00000001.jpg')\n",
    "image2 = Image.open('img/Abstract_Brushstroke_Pocket_Top/img_00000002.jpg')\n",
    "image3 = Image.open('img/Abstract_Brushstroke_Pocket_Top/img_00000003.jpg')\n",
    "image4 = Image.open('img/Abstract_Brushstroke_Pocket_Top/img_00000004.jpg')\n",
    "image5 = Image.open('img/Abstract_Brushstroke_Pocket_Top/img_00000005.jpg')\n",
    "deepfashion = [image1, image2, image3, image4, image5]\n",
    "\n",
    "fig1 = plt.figure()\n",
    "for i, img in enumerate(deepfashion):\n",
    "    fig1.add_subplot(1, 5, i+1)\n",
    "    plt.imshow(img, cmap='gray')    \n",
    "    plt.tight_layout()\n",
    "\n",
    "plt.show()\n"
   ]
  },
  {
   "cell_type": "markdown",
   "metadata": {},
   "source": [
    "For each method we have different training methods. Here is a code snippet from the Image Rotation Prediction where we \n",
    "- Call the model.\n",
    "- Define the loss, optimizer and scheduler.\n",
    "- Train the network\n",
    "\n",
    "```python\n",
    "def train_rotation_net():\n",
    "\n",
    "    \"\"\"Trains the rotation model.\"\"\"\n",
    "    print(\"=============================================================\")\n",
    "    print(\"========== Train Rotation Model with FashionMNIST ===========\")\n",
    "    print(\"=============================================================\\n\")\n",
    "\n",
    "    model = CifarNet(input_channels=1, num_classes=4)\n",
    "    model = model.to(DEVICE)\n",
    "\n",
    "    # Criteria NLLLoss which is recommended with Softmax final layer\n",
    "    loss_fn = nn.CrossEntropyLoss()\n",
    "\n",
    "    # Observe that all parameters are being optimized\n",
    "    optimizer = torch.optim.Adam(model.parameters(), lr=0.001)\n",
    "\n",
    "    # Decay LR by a factor of 0.1 every 4 epochs\n",
    "    scheduler = torch.optim.lr_scheduler.StepLR(optimizer=optimizer, step_size=4, gamma=0.1)\n",
    "\n",
    "    return train(model, loss_fn, optimizer, scheduler, EPOCHS, train_loader_fashion_mnist, val_loader_fashion_mnist)\n",
    "\n",
    "```"
   ]
  },
  {
   "cell_type": "markdown",
   "metadata": {},
   "source": [
    "Our model, called CifarNet is built like this:\n",
    "\n",
    "```python\n",
    "class CifarNet(nn.Module):\n",
    "    \"\"\"CifarNet model\"\"\"\n",
    "\n",
    "    def __init__(self, input_channels, num_classes=10):\n",
    "        super(CifarNet, self).__init__()\n",
    "        self.conv1 = nn.Conv2d(input_channels, 64, kernel_size=(5, 5), bias=False)\n",
    "        self.max1 = nn.MaxPool2d(kernel_size=(2, 2), stride=2)\n",
    "        self.batch1 = nn.BatchNorm2d(num_features=64)\n",
    "        self.conv2 = nn.Conv2d(64, 64, kernel_size=(5, 5), bias=False)\n",
    "        self.batch2 = nn.BatchNorm2d(num_features=64)\n",
    "        self.max2 = nn.MaxPool2d(kernel_size=(2, 2), stride=2)\n",
    "        self.flat = flatten\n",
    "        self.fc1 = nn.Linear(1600, 384, bias=True)\n",
    "        self.drop = nn.Dropout(0.5)\n",
    "        self.fc2 = nn.Linear(384, 192, bias=True)\n",
    "        self.fc3 = nn.Linear(192, num_classes, bias=True)\n",
    "\n",
    "    def forward(self, x):\n",
    "        out = self.conv1(x)\n",
    "        out = self.max1(out)\n",
    "        out = self.batch1(out)\n",
    "        out = self.conv2(out)\n",
    "        out = self.batch2(out)\n",
    "        out = self.max2(out)\n",
    "        out = self.flat(out)\n",
    "        out = self.fc1(out)\n",
    "        out = self.drop(out)\n",
    "        out = self.fc2(out)\n",
    "        out = self.fc3(out)\n",
    "        return out\n",
    "```"
   ]
  },
  {
   "cell_type": "markdown",
   "metadata": {},
   "source": [
    "After the training it is necessary that we finetune the model before we test it with the Deepfashion dataset:\n",
    "- We define the loss function, optimizer and scheduler again\n",
    "- Replace the last linear layer `self.fc3` by two fully connected layers \n",
    "- We freeze all layers except the last two ones. \n",
    "- In the last step we call the fine tuning function. \n",
    "\n",
    "\n",
    "    \n",
    "```python\n",
    "def fine_tune_rotation_model(model):\n",
    "    \"\"\"Fine tunes the rotation model.\"\"\"\n",
    "    print(\"=============================================================\")\n",
    "    print(\"======== Fine Tune Rotation Model with FashionMNIST =========\")\n",
    "    print(\"=============================================================\\n\")\n",
    "\n",
    "    # Criteria NLLLoss which is recommended with Softmax final layer\n",
    "    loss_fn = nn.CrossEntropyLoss()\n",
    "\n",
    "    # freezes all layers except the final one, according to the method parameters\n",
    "\n",
    "    for param in model.parameters():\n",
    "        param.requires_grad = False\n",
    "\n",
    "    for param in model.fc3.parameters():\n",
    "        param.requires_grad = True\n",
    "\n",
    "    # replace fc layer with 10 outputs\n",
    "    model.fc3 = nn.Sequential(nn.Linear(192, 192),\n",
    "                              nn.Linear(192, 10, bias=True)\n",
    "                              )\n",
    "\n",
    "    # Observe that all parameters are being optimized\n",
    "    optimizer = torch.optim.Adam(model.parameters(), lr=0.001)\n",
    "\n",
    "    # Decay LR by a factor of 0.1 every 4 epochs\n",
    "    scheduler = torch.optim.lr_scheduler.StepLR(optimizer=optimizer, step_size=4, gamma=0.1)\n",
    "\n",
    "    model = model.to(DEVICE)\n",
    "    return fine_tune(model, loss_fn, optimizer, scheduler, EPOCHS, train_loader_fashion_mnist, val_loader_fashion_mnist)\n",
    "\n",
    "```\n",
    "\n"
   ]
  },
  {
   "cell_type": "markdown",
   "metadata": {},
   "source": [
    "All that is left in the final step is to test the trained model on a testset for classification purposes. We keep the same loss function and call the function from `test.py`\n",
    "\n",
    "```python\n",
    "def test_classification_on_rotation_model(model):\n",
    "    \"\"\"Tests the rotation model.\"\"\"\n",
    "    print(\"=============================================================\")\n",
    "    print(\"== Test Classification on Rotation Model with FashionMNIST ==\")\n",
    "    print(\"=============================================================\\n\")\n",
    "    loss_fn = nn.CrossEntropyLoss()\n",
    "    model = model.to(DEVICE)\n",
    "    return test(model, loss_fn, EPOCHS, test_loader_fashion_mnist)\n",
    "```"
   ]
  },
  {
   "cell_type": "code",
   "execution_count": null,
   "metadata": {},
   "outputs": [],
   "source": []
  }
 ],
 "metadata": {
  "kernelspec": {
   "display_name": "Python 3",
   "language": "python",
   "name": "python3"
  },
  "language_info": {
   "codemirror_mode": {
    "name": "ipython",
    "version": 3
   },
   "file_extension": ".py",
   "mimetype": "text/x-python",
   "name": "python",
   "nbconvert_exporter": "python",
   "pygments_lexer": "ipython3",
   "version": "3.6.8"
  }
 },
 "nbformat": 4,
 "nbformat_minor": 2
}
