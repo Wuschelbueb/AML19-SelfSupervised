{
 "cells": [
  {
   "cell_type": "code",
   "execution_count": 1,
   "metadata": {},
   "outputs": [],
   "source": [
    "import torch\n",
    "import torch.nn as nn\n",
    "import numpy as np\n",
    "import time\n",
    "import torchvision.transforms.functional as tf\n",
    "\n",
    "from torch.utils.data import DataLoader, Dataset, ConcatDataset, Subset, random_split\n",
    "from torch.autograd import Variable\n",
    "from torchvision.models import resnet18\n",
    "from torchvision.datasets import FashionMNIST\n",
    "from torchvision.transforms import Compose, ToTensor, Normalize, RandomRotation, ToPILImage, RandomHorizontalFlip, RandomCrop, ColorJitter, RandomResizedCrop, RandomRotation, \\\n",
    "    RandomAffine, Resize\n",
    "from matplotlib import pyplot as plt\n",
    "from random import randint"
   ]
  },
  {
   "cell_type": "code",
   "execution_count": 2,
   "metadata": {},
   "outputs": [],
   "source": [
    "device = torch.device('cuda' if torch.cuda.is_available() else 'cpu')"
   ]
  },
  {
   "cell_type": "code",
   "execution_count": 3,
   "metadata": {},
   "outputs": [],
   "source": [
    "transform = Compose([ToTensor(), Normalize(mean=(0.5,), std=(0.5,))])"
   ]
  },
  {
   "cell_type": "code",
   "execution_count": 4,
   "metadata": {},
   "outputs": [],
   "source": [
    "class FashionMNISTDataset(Dataset):\n",
    "\n",
    "    def __init__(self, data, targets):\n",
    "        self.data = data\n",
    "        self.targets = targets\n",
    "\n",
    "    def __len__(self):\n",
    "        return len(self.data)\n",
    "\n",
    "    def __getitem__(self, index):\n",
    "        data = self.data[index][0]\n",
    "        target = self.targets[index][1]\n",
    "\n",
    "        return data, target"
   ]
  },
  {
   "cell_type": "code",
   "execution_count": 5,
   "metadata": {},
   "outputs": [],
   "source": [
    "root_dir = 'fashion_mnist'\n",
    "batch_size=64\n",
    "\n",
    "# Download and load the training data\n",
    "train_data = FashionMNIST(root=root_dir, download=True, train=True, transform=transform)\n",
    "test_data = FashionMNIST(root=root_dir, download=True, train=False, transform=transform)"
   ]
  },
  {
   "cell_type": "code",
   "execution_count": 6,
   "metadata": {},
   "outputs": [],
   "source": [
    "def train_val_subset(split):\n",
    "    data_set = train_data\n",
    "    nbr_train_examples = int(len(data_set) * split)\n",
    "    nbr_val_examples = len(data_set) - nbr_train_examples\n",
    "\n",
    "    return random_split(data_set, [nbr_train_examples, nbr_val_examples])"
   ]
  },
  {
   "cell_type": "code",
   "execution_count": 7,
   "metadata": {},
   "outputs": [],
   "source": [
    "def train_loader_classification():\n",
    "    train_subset, val_subset = train_val_subset(0.8)\n",
    "\n",
    "    train_set = FashionMNISTDataset(\n",
    "        data=train_subset,\n",
    "        targets=train_subset\n",
    "    )\n",
    "    return DataLoader(train_set, batch_size=64, shuffle=True)"
   ]
  },
  {
   "cell_type": "code",
   "execution_count": 8,
   "metadata": {},
   "outputs": [],
   "source": [
    "def val_loader_classification():\n",
    "    train_subset, val_subset = train_val_subset(0.8)\n",
    "\n",
    "    val_set = FashionMNISTDataset(\n",
    "        data=val_subset,\n",
    "        targets=val_subset\n",
    "    )\n",
    "    return DataLoader(val_set, batch_size=64, shuffle=False)"
   ]
  },
  {
   "cell_type": "code",
   "execution_count": 9,
   "metadata": {},
   "outputs": [],
   "source": [
    "def test_loader_classification():\n",
    "    return DataLoader(test_data, batch_size=batch_size, shuffle=False)"
   ]
  },
  {
   "cell_type": "code",
   "execution_count": 10,
   "metadata": {},
   "outputs": [
    {
     "name": "stdout",
     "output_type": "stream",
     "text": [
      "Train loader classification\n",
      "torch.Size([64, 1, 28, 28]) torch.Size([64])\n",
      "tensor([1, 7, 2, 2, 1, 3, 2, 0, 7, 5, 8, 8, 8, 5, 6, 2, 5, 9, 4, 5, 4, 4, 4, 0,\n",
      "        3, 7, 9, 5, 9, 8, 4, 4, 6, 5, 6, 4, 2, 5, 1, 8, 9, 2, 4, 7, 4, 2, 6, 3,\n",
      "        5, 6, 5, 8, 7, 8, 4, 9, 3, 2, 2, 0, 1, 1, 5, 1])\n",
      "\n",
      "Val loader classification\n",
      "torch.Size([64, 1, 28, 28]) torch.Size([64])\n",
      "tensor([7, 6, 7, 2, 6, 7, 3, 5, 1, 0, 9, 9, 4, 0, 9, 8, 6, 0, 4, 2, 4, 1, 8, 0,\n",
      "        2, 0, 4, 9, 0, 0, 8, 7, 0, 6, 7, 3, 6, 0, 5, 8, 8, 6, 7, 6, 8, 4, 4, 3,\n",
      "        8, 8, 6, 6, 9, 8, 2, 4, 6, 2, 0, 4, 4, 9, 9, 2])\n",
      "\n",
      "Test loader classification\n",
      "torch.Size([64, 1, 28, 28]) torch.Size([64])\n",
      "tensor([9, 2, 1, 1, 6, 1, 4, 6, 5, 7, 4, 5, 7, 3, 4, 1, 2, 4, 8, 0, 2, 5, 7, 9,\n",
      "        1, 4, 6, 0, 9, 3, 8, 8, 3, 3, 8, 0, 7, 5, 7, 9, 6, 1, 3, 7, 6, 7, 2, 1,\n",
      "        2, 2, 4, 4, 5, 8, 2, 2, 8, 4, 8, 0, 7, 7, 8, 5])\n"
     ]
    }
   ],
   "source": [
    "train_loader_classification = train_loader_classification()\n",
    "val_loader_classification = val_loader_classification()\n",
    "test_loader_classification = test_loader_classification()\n",
    "\n",
    "print(\"Train loader classification\")\n",
    "for xs, ys in train_loader_classification:\n",
    "    print(xs.size(), ys.size())\n",
    "    print(ys)\n",
    "    break    \n",
    "    \n",
    "print(\"\\nVal loader classification\")    \n",
    "for xs, ys in val_loader_classification:\n",
    "    print(xs.size(), ys.size())\n",
    "    print(ys)\n",
    "    break\n",
    "\n",
    "print(\"\\nTest loader classification\")\n",
    "for xs, ys in test_loader_classification:\n",
    "    print(xs.size(), ys.size())\n",
    "    print(ys)\n",
    "    break        "
   ]
  },
  {
   "cell_type": "markdown",
   "metadata": {},
   "source": [
    "## Rotation"
   ]
  },
  {
   "cell_type": "code",
   "execution_count": 11,
   "metadata": {},
   "outputs": [],
   "source": [
    "# Rotate given images by given angle\n",
    "def rotate(image, angle):\n",
    "    image = tf.to_pil_image(image)\n",
    "    image = tf.resize(image, 32, interpolation=2)\n",
    "    image = tf.rotate(image, angle)\n",
    "    image = tf.to_tensor(image)\n",
    "    image = tf.normalize(image, (0.5, ), (0.5, ))\n",
    "\n",
    "    return image"
   ]
  },
  {
   "cell_type": "code",
   "execution_count": 12,
   "metadata": {},
   "outputs": [],
   "source": [
    "class FashionMNISTRotation(Dataset):\n",
    "\n",
    "    def __init__(self, data, target, angle):\n",
    "        self.data = data\n",
    "        self.target = target\n",
    "        self.angle = angle\n",
    "\n",
    "    def __len__(self):\n",
    "        return len(self.data)\n",
    "\n",
    "    def __getitem__(self, index):\n",
    "        data = rotate(self.data[index][0], self.angle)\n",
    "        target = None\n",
    "\n",
    "        if self.angle == 0:\n",
    "            target = 0\n",
    "        if self.angle == 90:\n",
    "            target = 1\n",
    "        if self.angle == 180:\n",
    "            target = 2\n",
    "        if self.angle == 270:\n",
    "            target = 3\n",
    "\n",
    "        return data, target"
   ]
  },
  {
   "cell_type": "code",
   "execution_count": 13,
   "metadata": {},
   "outputs": [],
   "source": [
    "def train_data_rotation():\n",
    "    train_sub, _ = train_val_subset(0.8)\n",
    "\n",
    "    train_set_0 = FashionMNISTRotation(\n",
    "        data=train_sub,\n",
    "        target=train_sub,\n",
    "        angle=0\n",
    "    )\n",
    "\n",
    "    train_set_90 = FashionMNISTRotation(\n",
    "        data=train_sub,\n",
    "        target=train_sub,\n",
    "        angle=90\n",
    "    )\n",
    "\n",
    "    train_set_180 = FashionMNISTRotation(\n",
    "        data=train_sub,\n",
    "        target=train_sub,\n",
    "        angle=180\n",
    "    )\n",
    "\n",
    "    train_set_270 = FashionMNISTRotation(\n",
    "        data=train_sub,\n",
    "        target=train_sub,\n",
    "        angle=270\n",
    "    )\n",
    "\n",
    "    train_data_rotation = ConcatDataset([train_set_0, train_set_90, train_set_180, train_set_270])\n",
    "    print('Size of train set for rotation: {}'.format(len(train_data_rotation)))\n",
    "    return train_data_rotation"
   ]
  },
  {
   "cell_type": "code",
   "execution_count": 14,
   "metadata": {},
   "outputs": [],
   "source": [
    "def train_loader_rotation():\n",
    "    return DataLoader(train_data_rotation(), batch_size=batch_size, shuffle=True, num_workers=1)"
   ]
  },
  {
   "cell_type": "code",
   "execution_count": 15,
   "metadata": {},
   "outputs": [],
   "source": [
    "def val_data_rotation():\n",
    "    _, val_subset = train_val_subset(0.8)\n",
    "\n",
    "    val_set_0 = FashionMNISTRotation(\n",
    "        data=val_subset,\n",
    "        target=val_subset,\n",
    "        angle=0\n",
    "    )\n",
    "\n",
    "    val_set_90 = FashionMNISTRotation(\n",
    "        data=val_subset,\n",
    "        target=val_subset,\n",
    "        angle=90\n",
    "    )\n",
    "\n",
    "    val_set_180 = FashionMNISTRotation(\n",
    "        data=val_subset,\n",
    "        target=val_subset,\n",
    "        angle=180\n",
    "    )\n",
    "\n",
    "    val_set_270 = FashionMNISTRotation(\n",
    "        data=val_subset,\n",
    "        target=val_subset,\n",
    "        angle=270\n",
    "    )\n",
    "\n",
    "    val_data_rotation = ConcatDataset([val_set_0, val_set_90, val_set_180, val_set_270])\n",
    "    print('Size of validation set for rotation: {}'.format(len(val_data_rotation)))\n",
    "    return val_data_rotation"
   ]
  },
  {
   "cell_type": "code",
   "execution_count": 16,
   "metadata": {},
   "outputs": [],
   "source": [
    "def val_loader_rotation():\n",
    "    return DataLoader(val_data_rotation(), batch_size=batch_size, shuffle=False, num_workers=1)"
   ]
  },
  {
   "cell_type": "code",
   "execution_count": 17,
   "metadata": {},
   "outputs": [],
   "source": [
    "def test_data_rotation():\n",
    "    data_set = test_data\n",
    "\n",
    "    test_set_0 = FashionMNISTRotation(\n",
    "        data=data_set,\n",
    "        target=data_set,\n",
    "        angle=0\n",
    "    )\n",
    "\n",
    "    test_set_90 = FashionMNISTRotation(\n",
    "        data=data_set,\n",
    "        target=data_set,\n",
    "        angle=90\n",
    "    )\n",
    "\n",
    "    test_set_180 = FashionMNISTRotation(\n",
    "        data=data_set,\n",
    "        target=data_set,\n",
    "        angle=180\n",
    "    )\n",
    "\n",
    "    test_set_270 = FashionMNISTRotation(\n",
    "        data=data_set,\n",
    "        target=data_set,\n",
    "        angle=270\n",
    "    )\n",
    "\n",
    "    test_data_rotation = ConcatDataset([test_set_0, test_set_90, test_set_180, test_set_270])\n",
    "    print('Size of train set for rotation: {}'.format(len(test_data_rotation)))\n",
    "    return test_data_rotation"
   ]
  },
  {
   "cell_type": "code",
   "execution_count": 18,
   "metadata": {},
   "outputs": [],
   "source": [
    "def test_loader_rotation():\n",
    "    return DataLoader(test_data_rotation(), batch_size=batch_size, shuffle=False, num_workers=1)"
   ]
  },
  {
   "cell_type": "code",
   "execution_count": 24,
   "metadata": {},
   "outputs": [
    {
     "ename": "TypeError",
     "evalue": "'DataLoader' object is not callable",
     "output_type": "error",
     "traceback": [
      "\u001b[0;31m---------------------------------------------------------------------------\u001b[0m",
      "\u001b[0;31mTypeError\u001b[0m                                 Traceback (most recent call last)",
      "\u001b[0;32m<ipython-input-24-b25adc72e559>\u001b[0m in \u001b[0;36m<module>\u001b[0;34m\u001b[0m\n\u001b[0;32m----> 1\u001b[0;31m \u001b[0mtrain_loader\u001b[0m \u001b[0;34m=\u001b[0m \u001b[0mtrain_loader_rotation\u001b[0m\u001b[0;34m(\u001b[0m\u001b[0;34m)\u001b[0m\u001b[0;34m\u001b[0m\u001b[0;34m\u001b[0m\u001b[0m\n\u001b[0m\u001b[1;32m      2\u001b[0m \u001b[0mval_loader\u001b[0m \u001b[0;34m=\u001b[0m \u001b[0mval_loader_rotation\u001b[0m\u001b[0;34m(\u001b[0m\u001b[0;34m)\u001b[0m\u001b[0;34m\u001b[0m\u001b[0;34m\u001b[0m\u001b[0m\n\u001b[1;32m      3\u001b[0m \u001b[0mtest_loader\u001b[0m \u001b[0;34m=\u001b[0m \u001b[0mtest_loader_rotation\u001b[0m\u001b[0;34m(\u001b[0m\u001b[0;34m)\u001b[0m\u001b[0;34m\u001b[0m\u001b[0;34m\u001b[0m\u001b[0m\n\u001b[1;32m      4\u001b[0m \u001b[0;34m\u001b[0m\u001b[0m\n\u001b[1;32m      5\u001b[0m \u001b[0;32mfor\u001b[0m \u001b[0mxs\u001b[0m\u001b[0;34m,\u001b[0m \u001b[0mys\u001b[0m \u001b[0;32min\u001b[0m \u001b[0mtrain_loader\u001b[0m\u001b[0;34m:\u001b[0m\u001b[0;34m\u001b[0m\u001b[0;34m\u001b[0m\u001b[0m\n",
      "\u001b[0;31mTypeError\u001b[0m: 'DataLoader' object is not callable"
     ]
    }
   ],
   "source": [
    "train_loader = train_loader_rotation()\n",
    "val_loader = val_loader_rotation()\n",
    "test_loader = test_loader_rotation()\n",
    "\n",
    "for xs, ys in train_loader:\n",
    "    print(xs.size(), ys.size())\n",
    "    print(ys)\n",
    "    break    \n",
    "    \n",
    "for xs, ys in val_loader:\n",
    "    print(xs.size(), ys.size())\n",
    "    print(ys)\n",
    "    break    \n",
    "    \n",
    "for xs, ys in test_loader:\n",
    "    print(xs.size(), ys.size())\n",
    "    print(ys)\n",
    "    break       "
   ]
  },
  {
   "cell_type": "code",
   "execution_count": 25,
   "metadata": {},
   "outputs": [
    {
     "name": "stdout",
     "output_type": "stream",
     "text": [
      "Size of train set for rotation: 192000\n"
     ]
    },
    {
     "data": {
      "image/png": "[encoded data removed]",
      "text/plain": [
       "<Figure size 921.6x691.2 with 6 Axes>"
      ]
     },
     "metadata": {
      "needs_background": "light"
     },
     "output_type": "display_data"
    }
   ],
   "source": [
    "from matplotlib import pyplot as plt\n",
    "from random import randint\n",
    "dataset = train_data_rotation()\n",
    "\n",
    "f, axes = plt.subplots(2, 3, figsize=(12.8, 9.6))\n",
    "axes = [ax for axs in axes for ax in axs]\n",
    "\n",
    "for i in range(6):\n",
    "    index = randint(0, len(dataset))\n",
    "    image, label = dataset[index]\n",
    "    axes[i].imshow(image[0].view(32, 32), cmap='gray')\n",
    "    axes[i].set_title('Rotation:' + str(label))\n",
    "    axes[i].axis('off')  "
   ]
  },
  {
   "cell_type": "code",
   "execution_count": 26,
   "metadata": {},
   "outputs": [
    {
     "name": "stdout",
     "output_type": "stream",
     "text": [
      "Size of validation set for rotation: 48000\n"
     ]
    },
    {
     "data": {
      "image/png": "[encoded data removed]",
      "text/plain": [
       "<Figure size 921.6x691.2 with 6 Axes>"
      ]
     },
     "metadata": {
      "needs_background": "light"
     },
     "output_type": "display_data"
    }
   ],
   "source": [
    "from matplotlib import pyplot as plt\n",
    "from random import randint\n",
    "dataset = val_data_rotation()\n",
    "\n",
    "f, axes = plt.subplots(2, 3, figsize=(12.8, 9.6))\n",
    "axes = [ax for axs in axes for ax in axs]\n",
    "\n",
    "for i in range(6):\n",
    "    index = randint(0, len(dataset))\n",
    "    image, label = dataset[index]\n",
    "    axes[i].imshow(image[0].view(32, 32), cmap='gray')\n",
    "    axes[i].set_title('Rotation:' + str(label))\n",
    "    axes[i].axis('off')  "
   ]
  },
  {
   "cell_type": "code",
   "execution_count": 27,
   "metadata": {},
   "outputs": [
    {
     "name": "stdout",
     "output_type": "stream",
     "text": [
      "Size of train set for rotation: 40000\n"
     ]
    },
    {
     "data": {
      "image/png": "[encoded data removed]",
      "text/plain": [
       "<Figure size 921.6x691.2 with 6 Axes>"
      ]
     },
     "metadata": {
      "needs_background": "light"
     },
     "output_type": "display_data"
    }
   ],
   "source": [
    "from matplotlib import pyplot as plt\n",
    "from random import randint\n",
    "dataset = test_data_rotation()\n",
    "\n",
    "f, axes = plt.subplots(2, 3, figsize=(12.8, 9.6))\n",
    "axes = [ax for axs in axes for ax in axs]\n",
    "\n",
    "for i in range(6):\n",
    "    index = randint(0, len(dataset))\n",
    "    image, label = dataset[index]\n",
    "    axes[i].imshow(image[0].view(32, 32), cmap='gray')\n",
    "    axes[i].set_title('Rotation:' + str(label))\n",
    "    axes[i].axis('off')  "
   ]
  },
  {
   "cell_type": "markdown",
   "metadata": {},
   "source": [
    "## Exemplar CNN"
   ]
  },
  {
   "cell_type": "code",
   "execution_count": 28,
   "metadata": {},
   "outputs": [],
   "source": [
    "def horizontal_flip(image):\n",
    "    transform = Compose([\n",
    "        RandomHorizontalFlip(p=1.0),\n",
    "        Resize(32),\n",
    "        ToTensor(),\n",
    "        Normalize(mean=(0.5,), std=(0.5,))\n",
    "    ])\n",
    "    img = transform(image)\n",
    "    return img\n",
    "\n",
    "\n",
    "def random_crop(image):\n",
    "    transform = Compose([\n",
    "        RandomCrop((20, 20)),\n",
    "        Resize(32),\n",
    "        ToTensor(),\n",
    "        Normalize(mean=(0.5,), std=(0.5,))\n",
    "    ])\n",
    "    img = transform(image)\n",
    "    return img\n",
    "\n",
    "\n",
    "def color_jitter(image):\n",
    "    transform = Compose([\n",
    "        ColorJitter(brightness=0.4, contrast=0.4, saturation=0.4, hue=0.02),\n",
    "        Resize(32),\n",
    "        ToTensor(),\n",
    "        Normalize(mean=(0.5,), std=(0.5,))\n",
    "    ])\n",
    "    img = transform(image)\n",
    "    return img\n",
    "\n",
    "\n",
    "def random_resized_crop(image):\n",
    "    transform = Compose([\n",
    "        RandomResizedCrop(50, scale=(0.2, 1.0), ratio=(0.75, 1.333)),\n",
    "        Resize(32),\n",
    "        ToTensor(),\n",
    "        Normalize(mean=(0.5,), std=(0.5,))\n",
    "    ])\n",
    "    img = transform(image)\n",
    "    return img\n",
    "\n",
    "\n",
    "def random_rotation(image):\n",
    "    transform = Compose([\n",
    "        RandomRotation(45),\n",
    "        Resize(32),\n",
    "        ToTensor(),\n",
    "        Normalize(mean=(0.5,), std=(0.5,))\n",
    "    ])\n",
    "    img = transform(image)\n",
    "    return img\n",
    "\n",
    "\n",
    "def random_affine_transformation(image):\n",
    "    transform = Compose([\n",
    "        RandomAffine(degrees=15, translate=(0.1, 0.1), scale=(0.8, 1.3), shear=10),\n",
    "        Resize(32),\n",
    "        ToTensor(),\n",
    "        Normalize(mean=(0.5,), std=(0.5,))\n",
    "    ])\n",
    "    img = transform(image)\n",
    "    return img"
   ]
  },
  {
   "cell_type": "code",
   "execution_count": 29,
   "metadata": {},
   "outputs": [],
   "source": [
    "def random_transform(image):\n",
    "    transform = ToPILImage()\n",
    "    img = transform(image)\n",
    "\n",
    "    transformation = randint(0, 5)\n",
    "\n",
    "    if transformation == 0:\n",
    "        return horizontal_flip(img)\n",
    "    if transformation == 1:\n",
    "        return random_crop(img)\n",
    "    if transformation == 2:\n",
    "        return color_jitter(img)\n",
    "    if transformation == 3:\n",
    "        return random_resized_crop(img)\n",
    "    if transformation == 4:\n",
    "        return random_rotation(img)\n",
    "    if transformation == 5:\n",
    "        return random_affine_transformation(img)"
   ]
  },
  {
   "cell_type": "code",
   "execution_count": 30,
   "metadata": {},
   "outputs": [],
   "source": [
    "class ExemplarCNN(Dataset):\n",
    "\n",
    "    def __init__(self, data, target):\n",
    "        self.data = data\n",
    "        self.target = target\n",
    "\n",
    "    def __len__(self):\n",
    "        return len(self.data)\n",
    "\n",
    "    def __getitem__(self, index):\n",
    "        data = random_transform(self.data[index][0])\n",
    "        target = index\n",
    "\n",
    "        return data, target"
   ]
  },
  {
   "cell_type": "code",
   "execution_count": 31,
   "metadata": {},
   "outputs": [],
   "source": [
    "def train_data_exemplar_cnn():\n",
    "    train_subset, val_subset = train_val_subset(0.5)\n",
    "\n",
    "    train_set_exemplar_cnn = ExemplarCNN(\n",
    "        data=train_subset,\n",
    "        target=train_subset,\n",
    "    )\n",
    "\n",
    "    print('Size of train set for exemplar cnn: {}'.format(len(train_set_exemplar_cnn)))\n",
    "    return train_set_exemplar_cnn"
   ]
  },
  {
   "cell_type": "code",
   "execution_count": 32,
   "metadata": {},
   "outputs": [],
   "source": [
    "def val_data_exemplar_cnn():\n",
    "    train_subset, val_subset = train_val_subset(0.5)\n",
    "\n",
    "    val_set_exemplar_cnn = ExemplarCNN(\n",
    "        data=val_subset,\n",
    "        target=val_subset,\n",
    "    )\n",
    "\n",
    "    print('Size of validation set for exemplar cnn: {}'.format(len(val_set_exemplar_cnn)))\n",
    "    return val_set_exemplar_cnn"
   ]
  },
  {
   "cell_type": "code",
   "execution_count": 33,
   "metadata": {},
   "outputs": [],
   "source": [
    "def test_data_exemplar_cnn():\n",
    "    data = test_data\n",
    "\n",
    "    test_set_exemplar_cnn = ExemplarCNN(\n",
    "        data=data,\n",
    "        target=data,\n",
    "    )\n",
    "\n",
    "    print('Size of test set for exemplar cnn: {}'.format(len(test_set_exemplar_cnn)))\n",
    "    return test_set_exemplar_cnn"
   ]
  },
  {
   "cell_type": "code",
   "execution_count": 34,
   "metadata": {},
   "outputs": [],
   "source": [
    "def train_loader_exemplar_cnn():\n",
    "    return DataLoader(train_data_exemplar_cnn(), batch_size=64, shuffle=True)"
   ]
  },
  {
   "cell_type": "code",
   "execution_count": 35,
   "metadata": {},
   "outputs": [],
   "source": [
    "def val_loader_exemplar_cnn():\n",
    "    return DataLoader(val_data_exemplar_cnn(), batch_size=64, shuffle=False)"
   ]
  },
  {
   "cell_type": "code",
   "execution_count": 36,
   "metadata": {},
   "outputs": [],
   "source": [
    "def test_loader_exemplar_cnn():\n",
    "    return DataLoader(test_data_exemplar_cnn(), batch_size=64, shuffle=False)"
   ]
  },
  {
   "cell_type": "code",
   "execution_count": 37,
   "metadata": {},
   "outputs": [
    {
     "name": "stdout",
     "output_type": "stream",
     "text": [
      "Size of train set for exemplar cnn: 30000\n",
      "Size of validation set for exemplar cnn: 30000\n",
      "Size of test set for exemplar cnn: 10000\n",
      "torch.Size([64, 1, 32, 32]) torch.Size([64])\n",
      "tensor([20322,   178, 15527, 15309, 22290,   899, 12878, 10894,  4468, 15698,\n",
      "        20744, 20580, 27397, 25513,  7659, 24762, 11158, 16974, 14174, 19331,\n",
      "         1197,  9942,   184,  5611, 15946, 23721, 13660,  9267,  9617, 11274,\n",
      "         3824,  8363,   387, 17192, 23531,   862, 13083,   337, 18579,  3137,\n",
      "         3946, 21060, 10764,  4065, 28628,  2018, 20344, 23724,  9307, 14411,\n",
      "        16223, 28224, 12259, 14731,  1351, 23938, 27375,  8100, 25049,   834,\n",
      "        13224, 10740, 11343, 11839])\n",
      "torch.Size([64, 1, 32, 32]) torch.Size([64])\n",
      "tensor([ 0,  1,  2,  3,  4,  5,  6,  7,  8,  9, 10, 11, 12, 13, 14, 15, 16, 17,\n",
      "        18, 19, 20, 21, 22, 23, 24, 25, 26, 27, 28, 29, 30, 31, 32, 33, 34, 35,\n",
      "        36, 37, 38, 39, 40, 41, 42, 43, 44, 45, 46, 47, 48, 49, 50, 51, 52, 53,\n",
      "        54, 55, 56, 57, 58, 59, 60, 61, 62, 63])\n",
      "torch.Size([64, 1, 32, 32]) torch.Size([64])\n",
      "tensor([ 0,  1,  2,  3,  4,  5,  6,  7,  8,  9, 10, 11, 12, 13, 14, 15, 16, 17,\n",
      "        18, 19, 20, 21, 22, 23, 24, 25, 26, 27, 28, 29, 30, 31, 32, 33, 34, 35,\n",
      "        36, 37, 38, 39, 40, 41, 42, 43, 44, 45, 46, 47, 48, 49, 50, 51, 52, 53,\n",
      "        54, 55, 56, 57, 58, 59, 60, 61, 62, 63])\n"
     ]
    }
   ],
   "source": [
    "train_loader_exemplar_cnn = train_loader_exemplar_cnn()\n",
    "val_loader_exemplar_cnn = val_loader_exemplar_cnn()\n",
    "test_loader_exemplar_cnn = test_loader_exemplar_cnn()\n",
    "\n",
    "for xs, ys in train_loader_exemplar_cnn:\n",
    "    print(xs.size(), ys.size())\n",
    "    print(ys)\n",
    "    break    \n",
    "    \n",
    "for xs, ys in val_loader_exemplar_cnn:\n",
    "    print(xs.size(), ys.size())\n",
    "    print(ys)\n",
    "    break    \n",
    "    \n",
    "for xs, ys in test_loader_exemplar_cnn:\n",
    "    print(xs.size(), ys.size())\n",
    "    print(ys)\n",
    "    break       "
   ]
  },
  {
   "cell_type": "code",
   "execution_count": 38,
   "metadata": {},
   "outputs": [
    {
     "name": "stdout",
     "output_type": "stream",
     "text": [
      "Size of train set for exemplar cnn: 30000\n"
     ]
    },
    {
     "data": {
      "image/png": "[encoded data removed]",
      "text/plain": [
       "<Figure size 921.6x691.2 with 6 Axes>"
      ]
     },
     "metadata": {
      "needs_background": "light"
     },
     "output_type": "display_data"
    }
   ],
   "source": [
    "from matplotlib import pyplot as plt\n",
    "from random import randint\n",
    "dataset = train_data_exemplar_cnn()\n",
    "\n",
    "f, axes = plt.subplots(2, 3, figsize=(12.8, 9.6))\n",
    "axes = [ax for axs in axes for ax in axs]\n",
    "\n",
    "for i in range(6):\n",
    "    index = randint(0, len(dataset))\n",
    "    image, label = dataset[index]\n",
    "    axes[i].imshow(image[0].view(32, 32), cmap='gray')\n",
    "    axes[i].set_title('Class:' + str(label))\n",
    "    axes[i].axis('off')  "
   ]
  },
  {
   "cell_type": "code",
   "execution_count": 39,
   "metadata": {},
   "outputs": [
    {
     "name": "stdout",
     "output_type": "stream",
     "text": [
      "Size of validation set for exemplar cnn: 30000\n"
     ]
    },
    {
     "data": {
      "image/png": "[encoded data removed]",
      "text/plain": [
       "<Figure size 921.6x691.2 with 6 Axes>"
      ]
     },
     "metadata": {
      "needs_background": "light"
     },
     "output_type": "display_data"
    }
   ],
   "source": [
    "from matplotlib import pyplot as plt\n",
    "from random import randint\n",
    "dataset = val_data_exemplar_cnn()\n",
    "\n",
    "f, axes = plt.subplots(2, 3, figsize=(12.8, 9.6))\n",
    "axes = [ax for axs in axes for ax in axs]\n",
    "\n",
    "for i in range(6):\n",
    "    index = randint(0, len(dataset))\n",
    "    image, label = dataset[index]\n",
    "    axes[i].imshow(image[0].view(32, 32), cmap='gray')\n",
    "    axes[i].set_title('Class:' + str(label))\n",
    "    axes[i].axis('off')  "
   ]
  },
  {
   "cell_type": "code",
   "execution_count": 40,
   "metadata": {},
   "outputs": [
    {
     "name": "stdout",
     "output_type": "stream",
     "text": [
      "Size of test set for exemplar cnn: 10000\n"
     ]
    },
    {
     "data": {
      "image/png": "[encoded data removed]",
      "text/plain": [
       "<Figure size 921.6x691.2 with 6 Axes>"
      ]
     },
     "metadata": {
      "needs_background": "light"
     },
     "output_type": "display_data"
    }
   ],
   "source": [
    "from matplotlib import pyplot as plt\n",
    "from random import randint\n",
    "dataset = test_data_exemplar_cnn()\n",
    "\n",
    "f, axes = plt.subplots(2, 3, figsize=(12.8, 9.6))\n",
    "axes = [ax for axs in axes for ax in axs]\n",
    "\n",
    "for i in range(6):\n",
    "    index = randint(0, len(dataset))\n",
    "    image, label = dataset[index]\n",
    "    axes[i].imshow(image[0].view(32, 32), cmap='gray')\n",
    "    axes[i].set_title('Class:' + str(label))\n",
    "    axes[i].axis('off')  "
   ]
  },
  {
   "cell_type": "code",
   "execution_count": null,
   "metadata": {},
   "outputs": [],
   "source": []
  }
 ],
 "metadata": {
  "kernelspec": {
   "display_name": "Python 3",
   "language": "python",
   "name": "python3"
  },
  "language_info": {
   "codemirror_mode": {
    "name": "ipython",
    "version": 3
   },
   "file_extension": ".py",
   "mimetype": "text/x-python",
   "name": "python",
   "nbconvert_exporter": "python",
   "pygments_lexer": "ipython3",
   "version": "3.6.8"
  }
 },
 "nbformat": 4,
 "nbformat_minor": 2
}
