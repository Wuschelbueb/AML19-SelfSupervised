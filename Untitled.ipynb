{
 "cells": [
  {
   "cell_type": "code",
   "execution_count": 30,
   "metadata": {},
   "outputs": [],
   "source": [
    "import torch\n",
    "import torch.nn as nn\n",
    "import numpy as np\n",
    "import time\n",
    "import torchvision.transforms.functional as tf\n",
    "\n",
    "from torch.utils.data import DataLoader, Dataset, ConcatDataset, Subset, random_split\n",
    "from torch.autograd import Variable\n",
    "from torchvision.models import resnet18\n",
    "from torchvision.datasets import FashionMNIST\n",
    "from torchvision.transforms import Compose, ToTensor, Normalize, RandomRotation, ToPILImage\n",
    "from matplotlib import pyplot as plt\n",
    "from random import randint"
   ]
  },
  {
   "cell_type": "code",
   "execution_count": 2,
   "metadata": {},
   "outputs": [],
   "source": [
    "device = torch.device('cuda' if torch.cuda.is_available() else 'cpu')"
   ]
  },
  {
   "cell_type": "code",
   "execution_count": 3,
   "metadata": {},
   "outputs": [],
   "source": [
    "transform = Compose([ToTensor(), Normalize(mean=(0.5,), std=(0.5,))])"
   ]
  },
  {
   "cell_type": "code",
   "execution_count": 4,
   "metadata": {},
   "outputs": [],
   "source": [
    "# create Dataset for fashion classification (with fashion labels)\n",
    "\n",
    "class FashionMNISTDataset(Dataset):\n",
    "\n",
    "    def __init__(self, data, targets):\n",
    "        self.data = data\n",
    "        self.targets = targets\n",
    "\n",
    "    def __len__(self):\n",
    "        return len(self.data)\n",
    "\n",
    "    def __getitem__(self, index):\n",
    "        data = self.data[index][0]\n",
    "        target = self.targets[index][1]\n",
    "\n",
    "        return data, target"
   ]
  },
  {
   "cell_type": "code",
   "execution_count": 5,
   "metadata": {},
   "outputs": [],
   "source": [
    "# Rotate given images by given angle\n",
    "def rotate(image, angle):\n",
    "    image = tf.to_pil_image(image)\n",
    "    image = tf.resize(image, 32, interpolation=2)\n",
    "    image = tf.rotate(image, angle)\n",
    "    image = tf.to_tensor(image)\n",
    "    image = tf.normalize(image, (0.5, ), (0.5, ))\n",
    "\n",
    "    return image"
   ]
  },
  {
   "cell_type": "code",
   "execution_count": 6,
   "metadata": {},
   "outputs": [],
   "source": [
    "class FashionMNISTRotation(Dataset):\n",
    "\n",
    "    def __init__(self, data, target, angle):\n",
    "        self.data = data\n",
    "        self.target = target\n",
    "        self.angle = angle\n",
    "\n",
    "    def __len__(self):\n",
    "        return len(self.data)\n",
    "\n",
    "    def __getitem__(self, index):\n",
    "        data = rotate(self.data[index][0], self.angle)\n",
    "        target = None\n",
    "\n",
    "        if self.angle == 0:\n",
    "            target = 0\n",
    "        if self.angle == 90:\n",
    "            target = 1\n",
    "        if self.angle == 180:\n",
    "            target = 2\n",
    "        if self.angle == 270:\n",
    "            target = 3\n",
    "\n",
    "        return data, target"
   ]
  },
  {
   "cell_type": "code",
   "execution_count": 8,
   "metadata": {},
   "outputs": [],
   "source": [
    "root_dir = 'fashion_mnist'\n",
    "batch_size=64\n",
    "\n",
    "# Download and load the training data\n",
    "train_data = FashionMNIST(root=root_dir, download=True, train=True, transform=transform)\n",
    "test_data = FashionMNIST(root=root_dir, download=True, train=False, transform=transform)\n",
    "\n",
    "train_data_loader =  DataLoader(train_data, batch_size=batch_size, shuffle=True)\n",
    "test_data_loader = DataLoader(test_data, batch_size=batch_size, shuffle=False)"
   ]
  },
  {
   "cell_type": "code",
   "execution_count": 9,
   "metadata": {},
   "outputs": [],
   "source": [
    "def train_val_subset():\n",
    "    data_set = train_data\n",
    "    nbr_train_examples = int(len(data_set) * 0.8)\n",
    "    nbr_val_examples = len(data_set) - nbr_train_examples\n",
    "\n",
    "    return random_split(data_set, [nbr_train_examples, nbr_val_examples])"
   ]
  },
  {
   "cell_type": "code",
   "execution_count": 10,
   "metadata": {},
   "outputs": [],
   "source": [
    "def train_val_dataloader():\n",
    "    train_subset, val_subset = train_val_subset()\n",
    "\n",
    "    train_set = FashionMNISTDataset(\n",
    "        data=train_subset,\n",
    "        targets=train_subset\n",
    "    )\n",
    "\n",
    "    val_set = FashionMNISTDataset(\n",
    "        data=val_subset,\n",
    "        targets=val_subset\n",
    "    )\n",
    "\n",
    "    train_loader = DataLoader(train_set, batch_size=64, shuffle=True)\n",
    "    val_loader = DataLoader(val_set, batch_size=64, shuffle=False)\n",
    "\n",
    "    return train_loader, val_loader"
   ]
  },
  {
   "cell_type": "code",
   "execution_count": 13,
   "metadata": {},
   "outputs": [],
   "source": [
    "train_subset, val_subset = train_val_subset()\n",
    "\n",
    "train_set = FashionMNISTDataset(\n",
    "    data=train_subset,\n",
    "    targets=train_subset\n",
    ")\n",
    "\n",
    "val_set = FashionMNISTDataset(\n",
    "    data=val_subset,\n",
    "    targets=val_subset\n",
    ")\n",
    "\n",
    "train_loader = DataLoader(train_set, batch_size=64, shuffle=True)\n",
    "val_loader = DataLoader(val_set, batch_size=64, shuffle=False)"
   ]
  },
  {
   "cell_type": "code",
   "execution_count": 28,
   "metadata": {},
   "outputs": [],
   "source": [
    "def test_data_rotation_loader():\n",
    "    data_set = test_data\n",
    "\n",
    "    test_set_0 = FashionMNISTRotation(\n",
    "        data=data_set,\n",
    "        target=data_set,\n",
    "        angle=0\n",
    "    )\n",
    "\n",
    "    test_set_90 = FashionMNISTRotation(\n",
    "        data=data_set,\n",
    "        target=data_set,\n",
    "        angle=90\n",
    "    )\n",
    "\n",
    "    test_set_180 = FashionMNISTRotation(\n",
    "        data=data_set,\n",
    "        target=data_set,\n",
    "        angle=180\n",
    "    )\n",
    "\n",
    "    test_set_270 = FashionMNISTRotation(\n",
    "        data=data_set,\n",
    "        target=data_set,\n",
    "        angle=270\n",
    "    )\n",
    "\n",
    "    test_data_rotation = ConcatDataset([test_set_0, test_set_90, test_set_180, test_set_270])\n",
    "    test_loader_rotation = DataLoader(test_data_rotation, batch_size=batch_size, shuffle=False, num_workers=1)\n",
    "\n",
    "    return test_data_rotation, test_loader_rotation"
   ]
  },
  {
   "cell_type": "code",
   "execution_count": 31,
   "metadata": {},
   "outputs": [
    {
     "data": {
      "image/png": "[encoded data removed]",
      "text/plain": [
       "<Figure size 921.6x691.2 with 6 Axes>"
      ]
     },
     "metadata": {
      "needs_background": "light"
     },
     "output_type": "display_data"
    }
   ],
   "source": [
    "from matplotlib import pyplot as plt\n",
    "from random import randint\n",
    "dataset, _ = test_data_rotation_loader()\n",
    "\n",
    "f, axes = plt.subplots(2, 3, figsize=(12.8, 9.6))\n",
    "axes = [ax for axs in axes for ax in axs]\n",
    "\n",
    "for i in range(6):\n",
    "    index = randint(0, len(dataset))\n",
    "    image, label = dataset[index]\n",
    "    axes[i].imshow(image[0].view(32, 32), cmap='gray')\n",
    "    axes[i].set_title('Rotation:' + str(label))\n",
    "    axes[i].axis('off')  "
   ]
  },
  {
   "cell_type": "code",
   "execution_count": 15,
   "metadata": {},
   "outputs": [],
   "source": [
    "def train_data_rotation_loader():\n",
    "    train_sub, _ = train_val_subset()\n",
    "\n",
    "    train_set_0 = FashionMNISTRotation(\n",
    "        data=train_sub,\n",
    "        target=train_sub,\n",
    "        angle=0\n",
    "    )\n",
    "\n",
    "    train_set_90 = FashionMNISTRotation(\n",
    "        data=train_sub,\n",
    "        target=train_sub,\n",
    "        angle=90\n",
    "    )\n",
    "\n",
    "    train_set_180 = FashionMNISTRotation(\n",
    "        data=train_sub,\n",
    "        target=train_sub,\n",
    "        angle=180\n",
    "    )\n",
    "\n",
    "    train_set_270 = FashionMNISTRotation(\n",
    "        data=train_sub,\n",
    "        target=train_sub,\n",
    "        angle=270\n",
    "    )\n",
    "\n",
    "    train_data_rotation = ConcatDataset([train_set_0, train_set_90, train_set_180, train_set_270])\n",
    "    train_loader_rotation = DataLoader(train_data_rotation, batch_size=batch_size, shuffle=True, num_workers=1)\n",
    "\n",
    "    return train_loader_rotation"
   ]
  },
  {
   "cell_type": "code",
   "execution_count": 16,
   "metadata": {},
   "outputs": [],
   "source": [
    "def val_data_rotation_loader():\n",
    "    _, val_subset = train_val_subset()\n",
    "\n",
    "    val_set_0 = FashionMNISTRotation(\n",
    "        data=val_subset,\n",
    "        target=val_subset,\n",
    "        angle=0\n",
    "    )\n",
    "\n",
    "    val_set_90 = FashionMNISTRotation(\n",
    "        data=val_subset,\n",
    "        target=val_subset,\n",
    "        angle=90\n",
    "    )\n",
    "\n",
    "    val_set_180 = FashionMNISTRotation(\n",
    "        data=val_subset,\n",
    "        target=val_subset,\n",
    "        angle=180\n",
    "    )\n",
    "\n",
    "    val_set_270 = FashionMNISTRotation(\n",
    "        data=val_subset,\n",
    "        target=val_subset,\n",
    "        angle=270\n",
    "    )\n",
    "\n",
    "    val_data_rotation = ConcatDataset([val_set_0, val_set_90, val_set_180, val_set_270])\n",
    "    val_loader_rotation = DataLoader(val_data_rotation, batch_size=batch_size, shuffle=False, num_workers=1)\n",
    "\n",
    "    return val_loader_rotation"
   ]
  },
  {
   "cell_type": "code",
   "execution_count": 17,
   "metadata": {},
   "outputs": [],
   "source": [
    "train_loader, val_loader = train_val_dataloader()"
   ]
  },
  {
   "cell_type": "code",
   "execution_count": 18,
   "metadata": {},
   "outputs": [
    {
     "name": "stdout",
     "output_type": "stream",
     "text": [
      "torch.Size([64, 1, 28, 28]) torch.Size([64])\n",
      "tensor([4, 8, 1, 4, 9, 4, 7, 0, 6, 0, 4, 6, 1, 5, 9, 4, 6, 8, 6, 7, 9, 4, 1, 2,\n",
      "        5, 1, 9, 4, 2, 5, 6, 4, 0, 6, 5, 3, 9, 3, 6, 4, 4, 0, 6, 5, 0, 5, 5, 9,\n",
      "        0, 4, 5, 8, 2, 2, 2, 6, 1, 2, 6, 9, 2, 2, 7, 5])\n"
     ]
    }
   ],
   "source": [
    "for xs, ys in train_loader:\n",
    "    print(xs.size(), ys.size())\n",
    "    print(ys)\n",
    "    break    "
   ]
  },
  {
   "cell_type": "code",
   "execution_count": 19,
   "metadata": {},
   "outputs": [
    {
     "name": "stdout",
     "output_type": "stream",
     "text": [
      "torch.Size([64, 1, 28, 28]) torch.Size([64])\n",
      "tensor([9, 3, 4, 0, 1, 8, 8, 1, 1, 8, 1, 8, 9, 0, 1, 9, 7, 2, 6, 6, 1, 4, 2, 7,\n",
      "        3, 5, 2, 6, 1, 0, 8, 3, 3, 9, 8, 5, 3, 4, 7, 1, 3, 9, 8, 9, 4, 9, 6, 7,\n",
      "        4, 8, 7, 3, 1, 4, 5, 7, 2, 4, 9, 8, 2, 8, 2, 2])\n"
     ]
    }
   ],
   "source": [
    "for xs, ys in val_loader:\n",
    "    print(xs.size(), ys.size())\n",
    "    print(ys)\n",
    "    break"
   ]
  },
  {
   "cell_type": "code",
   "execution_count": null,
   "metadata": {},
   "outputs": [],
   "source": [
    "train_loader = train_data_rotation_loader()\n",
    "val_loader = val_data_rotation_loader()"
   ]
  },
  {
   "cell_type": "code",
   "execution_count": 20,
   "metadata": {},
   "outputs": [
    {
     "name": "stdout",
     "output_type": "stream",
     "text": [
      "torch.Size([64, 1, 28, 28]) torch.Size([64])\n",
      "tensor([5, 8, 7, 2, 0, 3, 9, 4, 8, 0, 2, 6, 0, 9, 6, 1, 7, 8, 9, 4, 7, 8, 6, 8,\n",
      "        0, 0, 6, 9, 2, 1, 3, 0, 4, 2, 1, 1, 9, 1, 9, 4, 1, 3, 0, 3, 4, 2, 5, 5,\n",
      "        2, 5, 9, 7, 0, 7, 4, 2, 1, 5, 5, 4, 7, 3, 7, 7])\n"
     ]
    }
   ],
   "source": [
    "for xs, ys in train_loader:\n",
    "    print(xs.size(), ys.size())\n",
    "    print(ys)\n",
    "    break"
   ]
  },
  {
   "cell_type": "code",
   "execution_count": 21,
   "metadata": {},
   "outputs": [
    {
     "name": "stdout",
     "output_type": "stream",
     "text": [
      "torch.Size([64, 1, 28, 28]) torch.Size([64])\n",
      "tensor([9, 3, 4, 0, 1, 8, 8, 1, 1, 8, 1, 8, 9, 0, 1, 9, 7, 2, 6, 6, 1, 4, 2, 7,\n",
      "        3, 5, 2, 6, 1, 0, 8, 3, 3, 9, 8, 5, 3, 4, 7, 1, 3, 9, 8, 9, 4, 9, 6, 7,\n",
      "        4, 8, 7, 3, 1, 4, 5, 7, 2, 4, 9, 8, 2, 8, 2, 2])\n"
     ]
    }
   ],
   "source": [
    "for xs, ys in val_loader:\n",
    "    print(xs.size(), ys.size())\n",
    "    print(ys)\n",
    "    break"
   ]
  },
  {
   "cell_type": "code",
   "execution_count": null,
   "metadata": {},
   "outputs": [],
   "source": []
  }
 ],
 "metadata": {
  "kernelspec": {
   "display_name": "Python 3",
   "language": "python",
   "name": "python3"
  },
  "language_info": {
   "codemirror_mode": {
    "name": "ipython",
    "version": 3
   },
   "file_extension": ".py",
   "mimetype": "text/x-python",
   "name": "python",
   "nbconvert_exporter": "python",
   "pygments_lexer": "ipython3",
   "version": "3.6.8"
  }
 },
 "nbformat": 4,
 "nbformat_minor": 2
}
